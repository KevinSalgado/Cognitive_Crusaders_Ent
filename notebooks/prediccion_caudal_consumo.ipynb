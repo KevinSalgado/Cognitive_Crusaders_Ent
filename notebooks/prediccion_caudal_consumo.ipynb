{
 "cells": [
  {
   "cell_type": "markdown",
   "metadata": {
    "application/vnd.databricks.v1+cell": {
     "cellMetadata": {
      "byteLimit": 2048000,
      "rowLimit": 10000
     },
     "inputWidgets": {},
     "nuid": "2f0e1b1a-1b6b-4b38-b7f2-39f4d43c1ffd",
     "showTitle": false,
     "title": ""
    }
   },
   "source": [
    "# Predicción Consumo"
   ]
  },
  {
   "cell_type": "code",
   "execution_count": 0,
   "metadata": {
    "application/vnd.databricks.v1+cell": {
     "cellMetadata": {
      "byteLimit": 2048000,
      "rowLimit": 10000
     },
     "inputWidgets": {},
     "nuid": "46ff791c-831a-4b60-abc3-6e2a246e9a10",
     "showTitle": false,
     "title": ""
    }
   },
   "outputs": [
    {
     "name": "stdout",
     "output_type": "stream",
     "text": [
      "Python interpreter will be restarted.\n",
      "Collecting skforecast\n",
      "  Downloading skforecast-0.7.0-py2.py3-none-any.whl (343 kB)\n",
      "Collecting scikit-learn<1.3,>=1.0\n",
      "  Downloading scikit_learn-1.2.2-cp39-cp39-manylinux_2_17_x86_64.manylinux2014_x86_64.whl (9.6 MB)\n",
      "Requirement already satisfied: numpy<1.25,>=1.20 in /databricks/python3/lib/python3.9/site-packages (from skforecast) (1.20.3)\n",
      "Collecting tqdm<4.65,>=4.57.0\n",
      "  Downloading tqdm-4.64.1-py2.py3-none-any.whl (78 kB)\n",
      "Collecting joblib<1.3.0,>=1.1.0\n",
      "  Downloading joblib-1.2.0-py3-none-any.whl (297 kB)\n",
      "Requirement already satisfied: pandas<1.6,>=1.2 in /databricks/python3/lib/python3.9/site-packages (from skforecast) (1.3.4)\n",
      "Collecting optuna<3.2,>=2.10.0\n",
      "  Downloading optuna-3.1.0-py3-none-any.whl (365 kB)\n",
      "Requirement already satisfied: packaging>=20.0 in /databricks/python3/lib/python3.9/site-packages (from optuna<3.2,>=2.10.0->skforecast) (21.0)\n",
      "Collecting alembic>=1.5.0\n",
      "  Downloading alembic-1.10.2-py3-none-any.whl (212 kB)\n",
      "Collecting cmaes>=0.9.1\n",
      "  Downloading cmaes-0.9.1-py3-none-any.whl (21 kB)\n",
      "Collecting sqlalchemy>=1.3.0\n",
      "  Downloading SQLAlchemy-2.0.7-cp39-cp39-manylinux_2_17_x86_64.manylinux2014_x86_64.whl (2.8 MB)\n",
      "Collecting colorlog\n",
      "  Downloading colorlog-6.7.0-py2.py3-none-any.whl (11 kB)\n",
      "Collecting PyYAML\n",
      "  Downloading PyYAML-6.0-cp39-cp39-manylinux_2_5_x86_64.manylinux1_x86_64.manylinux_2_12_x86_64.manylinux2010_x86_64.whl (661 kB)\n",
      "Collecting Mako\n",
      "  Downloading Mako-1.2.4-py3-none-any.whl (78 kB)\n",
      "Collecting typing-extensions>=4\n",
      "  Downloading typing_extensions-4.5.0-py3-none-any.whl (27 kB)\n",
      "Requirement already satisfied: pyparsing>=2.0.2 in /databricks/python3/lib/python3.9/site-packages (from packaging>=20.0->optuna<3.2,>=2.10.0->skforecast) (3.0.4)\n",
      "Requirement already satisfied: python-dateutil>=2.7.3 in /databricks/python3/lib/python3.9/site-packages (from pandas<1.6,>=1.2->skforecast) (2.8.2)\n",
      "Requirement already satisfied: pytz>=2017.3 in /databricks/python3/lib/python3.9/site-packages (from pandas<1.6,>=1.2->skforecast) (2021.3)\n",
      "Requirement already satisfied: six>=1.5 in /databricks/python3/lib/python3.9/site-packages (from python-dateutil>=2.7.3->pandas<1.6,>=1.2->skforecast) (1.16.0)\n",
      "Requirement already satisfied: threadpoolctl>=2.0.0 in /databricks/python3/lib/python3.9/site-packages (from scikit-learn<1.3,>=1.0->skforecast) (2.2.0)\n",
      "Requirement already satisfied: scipy>=1.3.2 in /databricks/python3/lib/python3.9/site-packages (from scikit-learn<1.3,>=1.0->skforecast) (1.7.1)\n",
      "Collecting greenlet!=0.4.17\n",
      "  Downloading greenlet-2.0.2-cp39-cp39-manylinux_2_17_x86_64.manylinux2014_x86_64.whl (610 kB)\n",
      "Requirement already satisfied: MarkupSafe>=0.9.2 in /databricks/python3/lib/python3.9/site-packages (from Mako->alembic>=1.5.0->optuna<3.2,>=2.10.0->skforecast) (2.0.1)\n",
      "Installing collected packages: typing-extensions, greenlet, sqlalchemy, Mako, tqdm, PyYAML, joblib, colorlog, cmaes, alembic, scikit-learn, optuna, skforecast\n",
      "  Attempting uninstall: typing-extensions\n",
      "    Found existing installation: typing-extensions 3.10.0.2\n",
      "    Not uninstalling typing-extensions at /databricks/python3/lib/python3.9/site-packages, outside environment /local_disk0/.ephemeral_nfs/envs/pythonEnv-d6f6661c-3060-4d10-95c1-c0aba53d8baa\n",
      "    Can't uninstall 'typing-extensions'. No files were found to uninstall.\n",
      "  Attempting uninstall: joblib\n",
      "    Found existing installation: joblib 1.0.1\n",
      "    Not uninstalling joblib at /databricks/python3/lib/python3.9/site-packages, outside environment /local_disk0/.ephemeral_nfs/envs/pythonEnv-d6f6661c-3060-4d10-95c1-c0aba53d8baa\n",
      "    Can't uninstall 'joblib'. No files were found to uninstall.\n",
      "  Attempting uninstall: scikit-learn\n",
      "    Found existing installation: scikit-learn 0.24.2\n",
      "    Not uninstalling scikit-learn at /databricks/python3/lib/python3.9/site-packages, outside environment /local_disk0/.ephemeral_nfs/envs/pythonEnv-d6f6661c-3060-4d10-95c1-c0aba53d8baa\n",
      "    Can't uninstall 'scikit-learn'. No files were found to uninstall.\n",
      "Successfully installed Mako-1.2.4 PyYAML-6.0 alembic-1.10.2 cmaes-0.9.1 colorlog-6.7.0 greenlet-2.0.2 joblib-1.2.0 optuna-3.1.0 scikit-learn-1.2.2 skforecast-0.7.0 sqlalchemy-2.0.7 tqdm-4.64.1 typing-extensions-4.5.0\n",
      "Python interpreter will be restarted.\n"
     ]
    }
   ],
   "source": [
    "%pip install skforecast"
   ]
  },
  {
   "cell_type": "code",
   "execution_count": 0,
   "metadata": {
    "application/vnd.databricks.v1+cell": {
     "cellMetadata": {
      "byteLimit": 2048000,
      "rowLimit": 10000
     },
     "inputWidgets": {},
     "nuid": "466dbae7-1acf-4d10-ba11-775df7b6cf95",
     "showTitle": false,
     "title": ""
    }
   },
   "outputs": [
    {
     "name": "stdout",
     "output_type": "stream",
     "text": [
      "Python interpreter will be restarted.\n",
      "Requirement already satisfied: typing-extensions in /local_disk0/.ephemeral_nfs/envs/pythonEnv-d6f6661c-3060-4d10-95c1-c0aba53d8baa/lib/python3.9/site-packages (4.5.0)\n",
      "Python interpreter will be restarted.\n"
     ]
    }
   ],
   "source": [
    "%pip install --upgrade typing-extensions "
   ]
  },
  {
   "cell_type": "code",
   "execution_count": 0,
   "metadata": {
    "application/vnd.databricks.v1+cell": {
     "cellMetadata": {
      "byteLimit": 2048000,
      "rowLimit": 10000
     },
     "inputWidgets": {},
     "nuid": "6db0f69a-3330-4fdc-94b2-6bfff5765c8f",
     "showTitle": false,
     "title": ""
    }
   },
   "outputs": [
    {
     "name": "stdout",
     "output_type": "stream",
     "text": [
      "Python interpreter will be restarted.\n",
      "Requirement already satisfied: pip in /local_disk0/.ephemeral_nfs/envs/pythonEnv-d6f6661c-3060-4d10-95c1-c0aba53d8baa/lib/python3.9/site-packages (21.2.4)\n",
      "Collecting pip\n",
      "  Downloading pip-23.0.1-py3-none-any.whl (2.1 MB)\n",
      "Installing collected packages: pip\n",
      "  Attempting uninstall: pip\n",
      "    Found existing installation: pip 21.2.4\n",
      "    Uninstalling pip-21.2.4:\n",
      "      Successfully uninstalled pip-21.2.4\n",
      "Successfully installed pip-23.0.1\n",
      "Python interpreter will be restarted.\n"
     ]
    }
   ],
   "source": [
    "%pip install --upgrade pip"
   ]
  },
  {
   "cell_type": "code",
   "execution_count": 0,
   "metadata": {
    "application/vnd.databricks.v1+cell": {
     "cellMetadata": {
      "byteLimit": 2048000,
      "rowLimit": 10000
     },
     "inputWidgets": {},
     "nuid": "249bbf0a-7ecf-4f72-9270-6d610e4dcc63",
     "showTitle": false,
     "title": ""
    }
   },
   "outputs": [
    {
     "name": "stdout",
     "output_type": "stream",
     "text": [
      "Python interpreter will be restarted.\n",
      "Requirement already satisfied: skforecast in /local_disk0/.ephemeral_nfs/envs/pythonEnv-d6f6661c-3060-4d10-95c1-c0aba53d8baa/lib/python3.9/site-packages (0.7.0)\n",
      "Requirement already satisfied: scikit-learn<1.3,>=1.0 in /local_disk0/.ephemeral_nfs/envs/pythonEnv-d6f6661c-3060-4d10-95c1-c0aba53d8baa/lib/python3.9/site-packages (from skforecast) (1.2.2)\n",
      "Requirement already satisfied: numpy<1.25,>=1.20 in /databricks/python3/lib/python3.9/site-packages (from skforecast) (1.20.3)\n",
      "Requirement already satisfied: tqdm<4.65,>=4.57.0 in /local_disk0/.ephemeral_nfs/envs/pythonEnv-d6f6661c-3060-4d10-95c1-c0aba53d8baa/lib/python3.9/site-packages (from skforecast) (4.64.1)\n",
      "Requirement already satisfied: joblib<1.3.0,>=1.1.0 in /local_disk0/.ephemeral_nfs/envs/pythonEnv-d6f6661c-3060-4d10-95c1-c0aba53d8baa/lib/python3.9/site-packages (from skforecast) (1.2.0)\n",
      "Requirement already satisfied: pandas<1.6,>=1.2 in /databricks/python3/lib/python3.9/site-packages (from skforecast) (1.3.4)\n",
      "Requirement already satisfied: optuna<3.2,>=2.10.0 in /local_disk0/.ephemeral_nfs/envs/pythonEnv-d6f6661c-3060-4d10-95c1-c0aba53d8baa/lib/python3.9/site-packages (from skforecast) (3.1.0)\n",
      "Requirement already satisfied: packaging>=20.0 in /databricks/python3/lib/python3.9/site-packages (from optuna<3.2,>=2.10.0->skforecast) (21.0)\n",
      "Requirement already satisfied: alembic>=1.5.0 in /local_disk0/.ephemeral_nfs/envs/pythonEnv-d6f6661c-3060-4d10-95c1-c0aba53d8baa/lib/python3.9/site-packages (from optuna<3.2,>=2.10.0->skforecast) (1.10.2)\n",
      "Requirement already satisfied: cmaes>=0.9.1 in /local_disk0/.ephemeral_nfs/envs/pythonEnv-d6f6661c-3060-4d10-95c1-c0aba53d8baa/lib/python3.9/site-packages (from optuna<3.2,>=2.10.0->skforecast) (0.9.1)\n",
      "Requirement already satisfied: sqlalchemy>=1.3.0 in /local_disk0/.ephemeral_nfs/envs/pythonEnv-d6f6661c-3060-4d10-95c1-c0aba53d8baa/lib/python3.9/site-packages (from optuna<3.2,>=2.10.0->skforecast) (2.0.7)\n",
      "Requirement already satisfied: colorlog in /local_disk0/.ephemeral_nfs/envs/pythonEnv-d6f6661c-3060-4d10-95c1-c0aba53d8baa/lib/python3.9/site-packages (from optuna<3.2,>=2.10.0->skforecast) (6.7.0)\n",
      "Requirement already satisfied: PyYAML in /local_disk0/.ephemeral_nfs/envs/pythonEnv-d6f6661c-3060-4d10-95c1-c0aba53d8baa/lib/python3.9/site-packages (from optuna<3.2,>=2.10.0->skforecast) (6.0)\n",
      "Requirement already satisfied: python-dateutil>=2.7.3 in /databricks/python3/lib/python3.9/site-packages (from pandas<1.6,>=1.2->skforecast) (2.8.2)\n",
      "Requirement already satisfied: pytz>=2017.3 in /databricks/python3/lib/python3.9/site-packages (from pandas<1.6,>=1.2->skforecast) (2021.3)\n",
      "Requirement already satisfied: threadpoolctl>=2.0.0 in /databricks/python3/lib/python3.9/site-packages (from scikit-learn<1.3,>=1.0->skforecast) (2.2.0)\n",
      "Requirement already satisfied: scipy>=1.3.2 in /databricks/python3/lib/python3.9/site-packages (from scikit-learn<1.3,>=1.0->skforecast) (1.7.1)\n",
      "Requirement already satisfied: Mako in /local_disk0/.ephemeral_nfs/envs/pythonEnv-d6f6661c-3060-4d10-95c1-c0aba53d8baa/lib/python3.9/site-packages (from alembic>=1.5.0->optuna<3.2,>=2.10.0->skforecast) (1.2.4)\n",
      "Requirement already satisfied: typing-extensions>=4 in /local_disk0/.ephemeral_nfs/envs/pythonEnv-d6f6661c-3060-4d10-95c1-c0aba53d8baa/lib/python3.9/site-packages (from alembic>=1.5.0->optuna<3.2,>=2.10.0->skforecast) (4.5.0)\n",
      "Requirement already satisfied: pyparsing>=2.0.2 in /databricks/python3/lib/python3.9/site-packages (from packaging>=20.0->optuna<3.2,>=2.10.0->skforecast) (3.0.4)\n",
      "Requirement already satisfied: six>=1.5 in /databricks/python3/lib/python3.9/site-packages (from python-dateutil>=2.7.3->pandas<1.6,>=1.2->skforecast) (1.16.0)\n",
      "Requirement already satisfied: greenlet!=0.4.17 in /local_disk0/.ephemeral_nfs/envs/pythonEnv-d6f6661c-3060-4d10-95c1-c0aba53d8baa/lib/python3.9/site-packages (from sqlalchemy>=1.3.0->optuna<3.2,>=2.10.0->skforecast) (2.0.2)\n",
      "Requirement already satisfied: MarkupSafe>=0.9.2 in /databricks/python3/lib/python3.9/site-packages (from Mako->alembic>=1.5.0->optuna<3.2,>=2.10.0->skforecast) (2.0.1)\n",
      "Python interpreter will be restarted.\n"
     ]
    }
   ],
   "source": [
    "%pip install --upgrade skforecast"
   ]
  },
  {
   "cell_type": "code",
   "execution_count": 0,
   "metadata": {
    "application/vnd.databricks.v1+cell": {
     "cellMetadata": {
      "byteLimit": 2048000,
      "rowLimit": 10000
     },
     "inputWidgets": {},
     "nuid": "d4e8e769-d204-4f10-a30f-e0c85a651abd",
     "showTitle": false,
     "title": ""
    }
   },
   "outputs": [
    {
     "data": {
      "application/vnd.databricks.v1+bamboolib_hint": "{\"pd.DataFrames\": [], \"version\": \"0.0.1\"}",
      "text/plain": []
     },
     "metadata": {
      "application/vnd.databricks.v1+output": {
       "addedWidgets": {},
       "arguments": {},
       "data": {
        "application/vnd.databricks.v1+bamboolib_hint": "{\"pd.DataFrames\": [], \"version\": \"0.0.1\"}",
        "text/plain": ""
       },
       "datasetInfos": [],
       "executionCount": null,
       "metadata": {
        "kernelSessionId": "10b4f706-8dbe62a9110aaf380dce708f"
       },
       "removedWidgets": [],
       "type": "mimeBundle"
      }
     },
     "output_type": "display_data"
    }
   ],
   "source": [
    "import pandas as pd\n",
    "import numpy as np\n",
    "import matplotlib.pyplot as plt"
   ]
  },
  {
   "cell_type": "markdown",
   "metadata": {
    "application/vnd.databricks.v1+cell": {
     "cellMetadata": {
      "byteLimit": 2048000,
      "rowLimit": 10000
     },
     "inputWidgets": {},
     "nuid": "35320e77-c926-4c93-98ec-87aabdae5395",
     "showTitle": false,
     "title": ""
    }
   },
   "source": [
    "##Análisis Previo"
   ]
  },
  {
   "cell_type": "markdown",
   "metadata": {
    "application/vnd.databricks.v1+cell": {
     "cellMetadata": {
      "byteLimit": 2048000,
      "rowLimit": 10000
     },
     "inputWidgets": {},
     "nuid": "59f87966-c65c-44db-8e54-5f5dae96e763",
     "showTitle": false,
     "title": ""
    }
   },
   "source": [
    "En esta sección, se presenta el análisis de datos previo para la selección del sector a analizar, para esto se estudiaron las gráficas de caudal de cada sector."
   ]
  },
  {
   "cell_type": "code",
   "execution_count": 0,
   "metadata": {
    "application/vnd.databricks.v1+cell": {
     "cellMetadata": {
      "byteLimit": 2048000,
      "rowLimit": 10000
     },
     "inputWidgets": {},
     "nuid": "1c7833bb-b6cf-4093-bd49-95c8a5110506",
     "showTitle": false,
     "title": ""
    }
   },
   "outputs": [],
   "source": [
    "# Paths\n",
    "abonado_path = '../../Workspace/General Docs shared folder/setDatos/abonado.csv'\n",
    "cliente_path = '../../Workspace/General Docs shared folder/setDatos/cliente.csv'\n",
    "contador_path = '../../Workspace/General Docs shared folder/setDatos/contador.csv'\n",
    "caudales_path = '../../Workspace/General Docs shared folder/setDatos/caudales.csv'\n",
    "gis_path = '../../Workspace/General Docs shared folder/setDatos/gis.csv'\n",
    "clima_path = '../../Workspace/General Docs shared folder/setDatos/clima.csv'"
   ]
  },
  {
   "cell_type": "code",
   "execution_count": 0,
   "metadata": {
    "application/vnd.databricks.v1+cell": {
     "cellMetadata": {
      "byteLimit": 2048000,
      "rowLimit": 10000
     },
     "inputWidgets": {},
     "nuid": "373313c2-25cf-487d-8d7e-e703a041938a",
     "showTitle": false,
     "title": ""
    }
   },
   "outputs": [],
   "source": [
    "df_abonado = pd.read_csv(abonado_path)\n",
    "df_cliente = pd.read_csv(cliente_path)\n",
    "df_contador = pd.read_csv(contador_path)\n",
    "df_caudales = pd.read_csv(caudales_path)\n",
    "df_gis = pd.read_csv(gis_path)\n",
    "df_clima = pd.read_csv(clima_path)"
   ]
  },
  {
   "cell_type": "markdown",
   "metadata": {
    "application/vnd.databricks.v1+cell": {
     "cellMetadata": {
      "byteLimit": 2048000,
      "rowLimit": 10000
     },
     "inputWidgets": {},
     "nuid": "4aced35d-f59b-4673-90f7-6d620e9ad306",
     "showTitle": false,
     "title": ""
    }
   },
   "source": [
    "### Jerarquía de sectores"
   ]
  },
  {
   "cell_type": "code",
   "execution_count": 0,
   "metadata": {
    "application/vnd.databricks.v1+cell": {
     "cellMetadata": {
      "byteLimit": 2048000,
      "rowLimit": 10000
     },
     "inputWidgets": {},
     "nuid": "98b21853-b1d9-4e69-9fd5-5b3794a6c15c",
     "showTitle": false,
     "title": ""
    }
   },
   "outputs": [],
   "source": [
    "from IPython.display import display\n",
    "from PIL import Image\n",
    "\n",
    "image = Image.open('../../Workspace/Group 1/src/assets/jerarquia_sectores.png')\n",
    "display(image)"
   ]
  },
  {
   "cell_type": "markdown",
   "metadata": {
    "application/vnd.databricks.v1+cell": {
     "cellMetadata": {
      "byteLimit": 2048000,
      "rowLimit": 10000
     },
     "inputWidgets": {},
     "nuid": "d6041c99-aa7c-4728-83e3-0924198e47cf",
     "showTitle": false,
     "title": ""
    }
   },
   "source": [
    "### Comparacion del caudal en todos los sectores\n",
    "A continuación se comparan los caudales con las fechas respectivas para los sectores que tienen medición de caudal, descritos en la sección anterior (los encerrados en rojo)"
   ]
  },
  {
   "cell_type": "code",
   "execution_count": 0,
   "metadata": {
    "application/vnd.databricks.v1+cell": {
     "cellMetadata": {
      "byteLimit": 2048000,
      "rowLimit": 10000
     },
     "inputWidgets": {},
     "nuid": "a58f2cce-ad18-4218-ac57-0fb8fd8c6530",
     "showTitle": false,
     "title": ""
    }
   },
   "outputs": [],
   "source": [
    "def rowkey_vs_infvalue(codigo_sector: int, fecha_inicio: int, fecha_fin: int, dataframe: pd.DataFrame=None, canonical: str='CAUDAL'):\n",
    "    '''\n",
    "    Realiza la gráfica de RowKey versus INF_Value para los caudales\n",
    "\n",
    "    - dataframe: el dataframe a partir del cual obtendremos los datos\n",
    "    - canonical: el tipo de canonical de interes\n",
    "    - codigo_sector: código del sector de interés\n",
    "    - fecha_inicio: inicio del periodo de tiempo a partir del cual se realizará la graficación\n",
    "    - fecha_fin: fin del periodo de tiempo a partir del cual se realizará la graficación\n",
    "    '''\n",
    "\n",
    "    if dataframe is None:\n",
    "        caudales_csv_path = '../../Workspace/General Docs shared folder/setDatos/caudales.csv'\n",
    "        dataframe = pd.read_csv(caudales_csv_path)\n",
    "\n",
    "    dataframe[(dataframe['Canonical']==canonical) & (dataframe['Sector_Neta']==codigo_sector)][['RowKey','INF_Value']][fecha_inicio:fecha_fin].sort_values(by='RowKey').set_index('RowKey').plot(kind='line',figsize=(20,5))"
   ]
  },
  {
   "cell_type": "markdown",
   "metadata": {
    "application/vnd.databricks.v1+cell": {
     "cellMetadata": {
      "byteLimit": 2048000,
      "rowLimit": 10000
     },
     "inputWidgets": {},
     "nuid": "41746b8d-fdba-4d94-92a3-41fb84ac8410",
     "showTitle": false,
     "title": ""
    }
   },
   "source": [
    "### Sector 22110000: Carretera de Urda"
   ]
  },
  {
   "cell_type": "code",
   "execution_count": 0,
   "metadata": {
    "application/vnd.databricks.v1+cell": {
     "cellMetadata": {
      "byteLimit": 2048000,
      "rowLimit": 10000
     },
     "inputWidgets": {},
     "nuid": "a4556aaa-8c78-4f90-915f-b14b8622d12b",
     "showTitle": false,
     "title": ""
    }
   },
   "outputs": [],
   "source": [
    "# Caudal medida del sector \n",
    "inicio = 4*24*4\n",
    "fin = 4*24*39\n",
    "\n",
    "df_caudales[(df_caudales['Canonical']=='CAUDAL') & (df_caudales['Sector_Neta']==22110000)][['RowKey','INF_Value']][inicio:fin].sort_values(by='RowKey').set_index('RowKey').plot(kind='line',figsize=(20,5))\n",
    "df_caudales[(df_caudales['Canonical']=='CAUDAL') & (df_caudales['Sector_Neta']==22110000)].shape"
   ]
  },
  {
   "cell_type": "markdown",
   "metadata": {
    "application/vnd.databricks.v1+cell": {
     "cellMetadata": {
      "byteLimit": 2048000,
      "rowLimit": 10000
     },
     "inputWidgets": {},
     "nuid": "05f12494-d881-46fa-95da-e1c2f91cb36d",
     "showTitle": false,
     "title": ""
    }
   },
   "source": [
    "En la gráfica anterior podemos observar que existen algunos valores que podrían considerarse como outliers, además de que los datos no siguen un patrón claro, considerando lo anterior, al pasar dichos datos a un modelo de ML podría causar que el modelo se \"confunda\" o haga una mala predicción."
   ]
  },
  {
   "cell_type": "markdown",
   "metadata": {
    "application/vnd.databricks.v1+cell": {
     "cellMetadata": {
      "byteLimit": 2048000,
      "rowLimit": 10000
     },
     "inputWidgets": {},
     "nuid": "b8566b21-6626-4aad-a676-bb30638c305f",
     "showTitle": false,
     "title": ""
    }
   },
   "source": [
    "### Sector 22120000: Valladolid"
   ]
  },
  {
   "cell_type": "code",
   "execution_count": 0,
   "metadata": {
    "application/vnd.databricks.v1+cell": {
     "cellMetadata": {
      "byteLimit": 2048000,
      "rowLimit": 10000
     },
     "inputWidgets": {},
     "nuid": "38070800-6720-4cf6-a99d-05376ce1cffc",
     "showTitle": false,
     "title": ""
    }
   },
   "outputs": [],
   "source": [
    "# Caudal medida del sector \n",
    "rowkey_vs_infvalue(codigo_sector=22120000, fecha_inicio=inicio, fecha_fin=fin)"
   ]
  },
  {
   "cell_type": "markdown",
   "metadata": {
    "application/vnd.databricks.v1+cell": {
     "cellMetadata": {
      "byteLimit": 2048000,
      "rowLimit": 10000
     },
     "inputWidgets": {},
     "nuid": "3bd28e71-6986-4de4-9390-d8814fc3a6d2",
     "showTitle": false,
     "title": ""
    }
   },
   "source": [
    "### Sector 22132100: Centro"
   ]
  },
  {
   "cell_type": "code",
   "execution_count": 0,
   "metadata": {
    "application/vnd.databricks.v1+cell": {
     "cellMetadata": {
      "byteLimit": 2048000,
      "rowLimit": 10000
     },
     "inputWidgets": {},
     "nuid": "2d2b854e-65ba-4abf-a75b-7ae22e6cf032",
     "showTitle": false,
     "title": ""
    }
   },
   "outputs": [],
   "source": [
    "rowkey_vs_infvalue(codigo_sector=22132100, fecha_inicio=inicio, fecha_fin=fin)"
   ]
  },
  {
   "cell_type": "markdown",
   "metadata": {
    "application/vnd.databricks.v1+cell": {
     "cellMetadata": {
      "byteLimit": 2048000,
      "rowLimit": 10000
     },
     "inputWidgets": {},
     "nuid": "b569548c-4916-4cca-8a66-96fa9393814a",
     "showTitle": false,
     "title": ""
    }
   },
   "source": [
    "### Sector 22122000: Sur Este"
   ]
  },
  {
   "cell_type": "code",
   "execution_count": 0,
   "metadata": {
    "application/vnd.databricks.v1+cell": {
     "cellMetadata": {
      "byteLimit": 2048000,
      "rowLimit": 10000
     },
     "inputWidgets": {},
     "nuid": "870642fc-b566-4971-a500-4349e17c3cc2",
     "showTitle": false,
     "title": ""
    }
   },
   "outputs": [],
   "source": [
    "rowkey_vs_infvalue(codigo_sector=22122000, fecha_inicio=inicio, fecha_fin=fin)"
   ]
  },
  {
   "cell_type": "markdown",
   "metadata": {
    "application/vnd.databricks.v1+cell": {
     "cellMetadata": {
      "byteLimit": 2048000,
      "rowLimit": 10000
     },
     "inputWidgets": {},
     "nuid": "361ea8e5-7236-48ce-9e30-2ddf3cde54dd",
     "showTitle": false,
     "title": ""
    }
   },
   "source": [
    "### Sector 22131000: Planta"
   ]
  },
  {
   "cell_type": "code",
   "execution_count": 0,
   "metadata": {
    "application/vnd.databricks.v1+cell": {
     "cellMetadata": {
      "byteLimit": 2048000,
      "rowLimit": 10000
     },
     "inputWidgets": {},
     "nuid": "cf1d4417-b8e7-43af-9844-493888c6f7a7",
     "showTitle": false,
     "title": ""
    }
   },
   "outputs": [],
   "source": [
    "rowkey_vs_infvalue(codigo_sector=22131000, fecha_inicio=inicio, fecha_fin=fin)"
   ]
  },
  {
   "cell_type": "markdown",
   "metadata": {
    "application/vnd.databricks.v1+cell": {
     "cellMetadata": {
      "byteLimit": 2048000,
      "rowLimit": 10000
     },
     "inputWidgets": {},
     "nuid": "8dbc0eca-2d78-4b42-b925-2951858dc938",
     "showTitle": false,
     "title": ""
    }
   },
   "source": [
    "### Sector 22130000: Churruca"
   ]
  },
  {
   "cell_type": "code",
   "execution_count": 0,
   "metadata": {
    "application/vnd.databricks.v1+cell": {
     "cellMetadata": {
      "byteLimit": 2048000,
      "rowLimit": 10000
     },
     "inputWidgets": {},
     "nuid": "65ea0450-aa30-4168-b3a7-7208c3f2c7db",
     "showTitle": false,
     "title": ""
    }
   },
   "outputs": [],
   "source": [
    "rowkey_vs_infvalue(codigo_sector=22130000, fecha_inicio=inicio, fecha_fin=fin)"
   ]
  },
  {
   "cell_type": "markdown",
   "metadata": {
    "application/vnd.databricks.v1+cell": {
     "cellMetadata": {
      "byteLimit": 2048000,
      "rowLimit": 10000
     },
     "inputWidgets": {},
     "nuid": "eabbc413-f331-4980-a86c-bc550a97002a",
     "showTitle": false,
     "title": ""
    }
   },
   "source": [
    "### Sector 22122100: Polígono"
   ]
  },
  {
   "cell_type": "code",
   "execution_count": 0,
   "metadata": {
    "application/vnd.databricks.v1+cell": {
     "cellMetadata": {
      "byteLimit": 2048000,
      "rowLimit": 10000
     },
     "inputWidgets": {},
     "nuid": "5b54f52a-1f8a-4320-ac1c-9ad253fa7631",
     "showTitle": false,
     "title": ""
    }
   },
   "outputs": [],
   "source": [
    "rowkey_vs_infvalue(codigo_sector=22122100, fecha_inicio=inicio, fecha_fin=fin)"
   ]
  },
  {
   "cell_type": "markdown",
   "metadata": {
    "application/vnd.databricks.v1+cell": {
     "cellMetadata": {
      "byteLimit": 2048000,
      "rowLimit": 10000
     },
     "inputWidgets": {},
     "nuid": "999e881f-5697-4bf3-83a2-9238c133ac59",
     "showTitle": false,
     "title": ""
    }
   },
   "source": [
    "### Sector 22121000: Gasolinera"
   ]
  },
  {
   "cell_type": "code",
   "execution_count": 0,
   "metadata": {
    "application/vnd.databricks.v1+cell": {
     "cellMetadata": {
      "byteLimit": 2048000,
      "rowLimit": 10000
     },
     "inputWidgets": {},
     "nuid": "92a2c7ce-24a0-493c-8be2-4d208d805e71",
     "showTitle": false,
     "title": ""
    }
   },
   "outputs": [],
   "source": [
    "rowkey_vs_infvalue(codigo_sector=22121000, fecha_inicio=inicio, fecha_fin=fin)"
   ]
  },
  {
   "cell_type": "markdown",
   "metadata": {
    "application/vnd.databricks.v1+cell": {
     "cellMetadata": {
      "byteLimit": 2048000,
      "rowLimit": 10000
     },
     "inputWidgets": {},
     "nuid": "4a4c0ac2-d2fd-4a1b-9337-042c0c92ab22",
     "showTitle": false,
     "title": ""
    }
   },
   "source": [
    "Tras analizar las gráficas de caudales por fecha de los sectores que tienen caudalímetro, se observó que el sector CARRETERA DE URDA no presenta un patrón muy favorable para realizar el análisis. Se observó que tanto en los sectores VALLADOLID y GASOLINERA se encuentra un patrón más favorable para el análisis, por lo que se optó por seleccionar uno de estos; finalmente escogimos GASOLINERA ya que tiene varios datos importantes y a su vez no tiene ningún sector hijo."
   ]
  },
  {
   "cell_type": "markdown",
   "metadata": {
    "application/vnd.databricks.v1+cell": {
     "cellMetadata": {
      "byteLimit": 2048000,
      "rowLimit": 10000
     },
     "inputWidgets": {},
     "nuid": "e668dc3b-fe07-43c4-9ebf-c564e0b449ce",
     "showTitle": false,
     "title": ""
    }
   },
   "source": [
    "## Gasolinera"
   ]
  },
  {
   "cell_type": "markdown",
   "metadata": {
    "application/vnd.databricks.v1+cell": {
     "cellMetadata": {
      "byteLimit": 2048000,
      "rowLimit": 10000
     },
     "inputWidgets": {},
     "nuid": "77a49a59-b298-4004-8f66-04b7b288070d",
     "showTitle": false,
     "title": ""
    }
   },
   "source": [
    "Se limpiaron los datos para Gasolinera usando una función escrita en el notebook **funcion_limpia_data**, dichos datos se almacenaron en un csv llamado **Gasolinera_Temp_Humedad.csv**, en este notebook usaremos ese dataset para predecir el caudal de Gasolinera."
   ]
  },
  {
   "cell_type": "code",
   "execution_count": 0,
   "metadata": {
    "application/vnd.databricks.v1+cell": {
     "cellMetadata": {
      "byteLimit": 2048000,
      "rowLimit": 10000
     },
     "inputWidgets": {},
     "nuid": "0e30a279-f0b3-4e17-9196-4fdea23eb5a1",
     "showTitle": false,
     "title": ""
    }
   },
   "outputs": [],
   "source": [
    "# Path del .csv\n",
    "Gasolina_Temp_Hum_path = '../../Workspace/Group 1/src/our_csv/Gasolinera_Temp_Humedad.csv'"
   ]
  },
  {
   "cell_type": "code",
   "execution_count": 0,
   "metadata": {
    "application/vnd.databricks.v1+cell": {
     "cellMetadata": {
      "byteLimit": 2048000,
      "rowLimit": 10000
     },
     "inputWidgets": {},
     "nuid": "63b1c82d-866b-4beb-af89-44d18553e309",
     "showTitle": false,
     "title": ""
    }
   },
   "outputs": [],
   "source": [
    "# Lectura del csv y almacenamiento en un dataframe\n",
    "df_Gasolinera_TempHum = pd.read_csv(Gasolina_Temp_Hum_path)"
   ]
  },
  {
   "cell_type": "code",
   "execution_count": 0,
   "metadata": {
    "application/vnd.databricks.v1+cell": {
     "cellMetadata": {
      "byteLimit": 2048000,
      "rowLimit": 10000
     },
     "inputWidgets": {},
     "nuid": "24f6f53c-6454-4d3d-be92-1a4940559649",
     "showTitle": false,
     "title": ""
    }
   },
   "outputs": [],
   "source": [
    "df_Gasolinera_TempHum = df_Gasolinera_TempHum.rename(columns={'AÑO':'ANO'})"
   ]
  },
  {
   "cell_type": "code",
   "execution_count": 0,
   "metadata": {
    "application/vnd.databricks.v1+cell": {
     "cellMetadata": {
      "byteLimit": 2048000,
      "rowLimit": 10000
     },
     "inputWidgets": {},
     "nuid": "132d43fb-afdf-49bb-9998-d411f66759dc",
     "showTitle": false,
     "title": ""
    }
   },
   "outputs": [
    {
     "data": {
      "text/html": [
       "<div>\n",
       "<style scoped>\n",
       "    .dataframe tbody tr th:only-of-type {\n",
       "        vertical-align: middle;\n",
       "    }\n",
       "\n",
       "    .dataframe tbody tr th {\n",
       "        vertical-align: top;\n",
       "    }\n",
       "\n",
       "    .dataframe thead th {\n",
       "        text-align: right;\n",
       "    }\n",
       "</style>\n",
       "<table border=\"1\" class=\"dataframe\">\n",
       "  <thead>\n",
       "    <tr style=\"text-align: right;\">\n",
       "      <th></th>\n",
       "      <th>TEMP</th>\n",
       "      <th>HUMEDAD</th>\n",
       "      <th>DATO</th>\n",
       "      <th>ANO</th>\n",
       "      <th>MES</th>\n",
       "      <th>DIA</th>\n",
       "      <th>DIA_SEMANA</th>\n",
       "      <th>HORA_NUMERICA</th>\n",
       "      <th>MINUTO_NUMERICO</th>\n",
       "    </tr>\n",
       "  </thead>\n",
       "  <tbody>\n",
       "    <tr>\n",
       "      <th>0</th>\n",
       "      <td>26.833333</td>\n",
       "      <td>50.703333</td>\n",
       "      <td>9.28</td>\n",
       "      <td>2021</td>\n",
       "      <td>8</td>\n",
       "      <td>5</td>\n",
       "      <td>3</td>\n",
       "      <td>14</td>\n",
       "      <td>0</td>\n",
       "    </tr>\n",
       "    <tr>\n",
       "      <th>1</th>\n",
       "      <td>26.833333</td>\n",
       "      <td>50.703333</td>\n",
       "      <td>11.88</td>\n",
       "      <td>2021</td>\n",
       "      <td>8</td>\n",
       "      <td>5</td>\n",
       "      <td>3</td>\n",
       "      <td>14</td>\n",
       "      <td>15</td>\n",
       "    </tr>\n",
       "    <tr>\n",
       "      <th>2</th>\n",
       "      <td>26.833333</td>\n",
       "      <td>50.703333</td>\n",
       "      <td>11.24</td>\n",
       "      <td>2021</td>\n",
       "      <td>8</td>\n",
       "      <td>5</td>\n",
       "      <td>3</td>\n",
       "      <td>14</td>\n",
       "      <td>30</td>\n",
       "    </tr>\n",
       "    <tr>\n",
       "      <th>3</th>\n",
       "      <td>26.833333</td>\n",
       "      <td>50.703333</td>\n",
       "      <td>12.04</td>\n",
       "      <td>2021</td>\n",
       "      <td>8</td>\n",
       "      <td>5</td>\n",
       "      <td>3</td>\n",
       "      <td>14</td>\n",
       "      <td>45</td>\n",
       "    </tr>\n",
       "    <tr>\n",
       "      <th>4</th>\n",
       "      <td>26.833333</td>\n",
       "      <td>50.703333</td>\n",
       "      <td>11.52</td>\n",
       "      <td>2021</td>\n",
       "      <td>8</td>\n",
       "      <td>5</td>\n",
       "      <td>3</td>\n",
       "      <td>15</td>\n",
       "      <td>0</td>\n",
       "    </tr>\n",
       "    <tr>\n",
       "      <th>...</th>\n",
       "      <td>...</td>\n",
       "      <td>...</td>\n",
       "      <td>...</td>\n",
       "      <td>...</td>\n",
       "      <td>...</td>\n",
       "      <td>...</td>\n",
       "      <td>...</td>\n",
       "      <td>...</td>\n",
       "      <td>...</td>\n",
       "    </tr>\n",
       "    <tr>\n",
       "      <th>46002</th>\n",
       "      <td>15.300000</td>\n",
       "      <td>87.740000</td>\n",
       "      <td>2.32</td>\n",
       "      <td>2022</td>\n",
       "      <td>12</td>\n",
       "      <td>12</td>\n",
       "      <td>0</td>\n",
       "      <td>6</td>\n",
       "      <td>0</td>\n",
       "    </tr>\n",
       "    <tr>\n",
       "      <th>46003</th>\n",
       "      <td>15.300000</td>\n",
       "      <td>87.740000</td>\n",
       "      <td>2.36</td>\n",
       "      <td>2022</td>\n",
       "      <td>12</td>\n",
       "      <td>12</td>\n",
       "      <td>0</td>\n",
       "      <td>6</td>\n",
       "      <td>15</td>\n",
       "    </tr>\n",
       "    <tr>\n",
       "      <th>46004</th>\n",
       "      <td>15.300000</td>\n",
       "      <td>87.740000</td>\n",
       "      <td>2.68</td>\n",
       "      <td>2022</td>\n",
       "      <td>12</td>\n",
       "      <td>12</td>\n",
       "      <td>0</td>\n",
       "      <td>6</td>\n",
       "      <td>30</td>\n",
       "    </tr>\n",
       "    <tr>\n",
       "      <th>46005</th>\n",
       "      <td>15.300000</td>\n",
       "      <td>87.740000</td>\n",
       "      <td>2.88</td>\n",
       "      <td>2022</td>\n",
       "      <td>12</td>\n",
       "      <td>12</td>\n",
       "      <td>0</td>\n",
       "      <td>6</td>\n",
       "      <td>45</td>\n",
       "    </tr>\n",
       "    <tr>\n",
       "      <th>46006</th>\n",
       "      <td>15.300000</td>\n",
       "      <td>87.740000</td>\n",
       "      <td>3.16</td>\n",
       "      <td>2022</td>\n",
       "      <td>12</td>\n",
       "      <td>12</td>\n",
       "      <td>0</td>\n",
       "      <td>7</td>\n",
       "      <td>0</td>\n",
       "    </tr>\n",
       "  </tbody>\n",
       "</table>\n",
       "<p>46007 rows × 9 columns</p>\n",
       "</div>"
      ]
     },
     "metadata": {
      "application/vnd.databricks.v1+output": {
       "addedWidgets": {},
       "arguments": {},
       "data": "<div>\n<style scoped>\n    .dataframe tbody tr th:only-of-type {\n        vertical-align: middle;\n    }\n\n    .dataframe tbody tr th {\n        vertical-align: top;\n    }\n\n    .dataframe thead th {\n        text-align: right;\n    }\n</style>\n<table border=\"1\" class=\"dataframe\">\n  <thead>\n    <tr style=\"text-align: right;\">\n      <th></th>\n      <th>TEMP</th>\n      <th>HUMEDAD</th>\n      <th>DATO</th>\n      <th>ANO</th>\n      <th>MES</th>\n      <th>DIA</th>\n      <th>DIA_SEMANA</th>\n      <th>HORA_NUMERICA</th>\n      <th>MINUTO_NUMERICO</th>\n    </tr>\n  </thead>\n  <tbody>\n    <tr>\n      <th>0</th>\n      <td>26.833333</td>\n      <td>50.703333</td>\n      <td>9.28</td>\n      <td>2021</td>\n      <td>8</td>\n      <td>5</td>\n      <td>3</td>\n      <td>14</td>\n      <td>0</td>\n    </tr>\n    <tr>\n      <th>1</th>\n      <td>26.833333</td>\n      <td>50.703333</td>\n      <td>11.88</td>\n      <td>2021</td>\n      <td>8</td>\n      <td>5</td>\n      <td>3</td>\n      <td>14</td>\n      <td>15</td>\n    </tr>\n    <tr>\n      <th>2</th>\n      <td>26.833333</td>\n      <td>50.703333</td>\n      <td>11.24</td>\n      <td>2021</td>\n      <td>8</td>\n      <td>5</td>\n      <td>3</td>\n      <td>14</td>\n      <td>30</td>\n    </tr>\n    <tr>\n      <th>3</th>\n      <td>26.833333</td>\n      <td>50.703333</td>\n      <td>12.04</td>\n      <td>2021</td>\n      <td>8</td>\n      <td>5</td>\n      <td>3</td>\n      <td>14</td>\n      <td>45</td>\n    </tr>\n    <tr>\n      <th>4</th>\n      <td>26.833333</td>\n      <td>50.703333</td>\n      <td>11.52</td>\n      <td>2021</td>\n      <td>8</td>\n      <td>5</td>\n      <td>3</td>\n      <td>15</td>\n      <td>0</td>\n    </tr>\n    <tr>\n      <th>...</th>\n      <td>...</td>\n      <td>...</td>\n      <td>...</td>\n      <td>...</td>\n      <td>...</td>\n      <td>...</td>\n      <td>...</td>\n      <td>...</td>\n      <td>...</td>\n    </tr>\n    <tr>\n      <th>46002</th>\n      <td>15.300000</td>\n      <td>87.740000</td>\n      <td>2.32</td>\n      <td>2022</td>\n      <td>12</td>\n      <td>12</td>\n      <td>0</td>\n      <td>6</td>\n      <td>0</td>\n    </tr>\n    <tr>\n      <th>46003</th>\n      <td>15.300000</td>\n      <td>87.740000</td>\n      <td>2.36</td>\n      <td>2022</td>\n      <td>12</td>\n      <td>12</td>\n      <td>0</td>\n      <td>6</td>\n      <td>15</td>\n    </tr>\n    <tr>\n      <th>46004</th>\n      <td>15.300000</td>\n      <td>87.740000</td>\n      <td>2.68</td>\n      <td>2022</td>\n      <td>12</td>\n      <td>12</td>\n      <td>0</td>\n      <td>6</td>\n      <td>30</td>\n    </tr>\n    <tr>\n      <th>46005</th>\n      <td>15.300000</td>\n      <td>87.740000</td>\n      <td>2.88</td>\n      <td>2022</td>\n      <td>12</td>\n      <td>12</td>\n      <td>0</td>\n      <td>6</td>\n      <td>45</td>\n    </tr>\n    <tr>\n      <th>46006</th>\n      <td>15.300000</td>\n      <td>87.740000</td>\n      <td>3.16</td>\n      <td>2022</td>\n      <td>12</td>\n      <td>12</td>\n      <td>0</td>\n      <td>7</td>\n      <td>0</td>\n    </tr>\n  </tbody>\n</table>\n<p>46007 rows × 9 columns</p>\n</div>",
       "datasetInfos": [],
       "metadata": {},
       "removedWidgets": [],
       "textData": null,
       "type": "htmlSandbox"
      }
     },
     "output_type": "display_data"
    }
   ],
   "source": [
    "df_Gasolinera_TempHum"
   ]
  },
  {
   "cell_type": "markdown",
   "metadata": {
    "application/vnd.databricks.v1+cell": {
     "cellMetadata": {
      "byteLimit": 2048000,
      "rowLimit": 10000
     },
     "inputWidgets": {},
     "nuid": "e520836e-7b6b-4307-ac22-3965150d5500",
     "showTitle": false,
     "title": ""
    }
   },
   "source": [
    "En este apartado se obtiene la columna FECHA para el procesamiento de la serie numérica"
   ]
  },
  {
   "cell_type": "code",
   "execution_count": 0,
   "metadata": {
    "application/vnd.databricks.v1+cell": {
     "cellMetadata": {
      "byteLimit": 2048000,
      "rowLimit": 10000
     },
     "inputWidgets": {},
     "nuid": "79e96743-f5e0-4566-b936-b60720fc9c9d",
     "showTitle": false,
     "title": ""
    }
   },
   "outputs": [
    {
     "data": {
      "text/html": [
       "<div>\n",
       "<style scoped>\n",
       "    .dataframe tbody tr th:only-of-type {\n",
       "        vertical-align: middle;\n",
       "    }\n",
       "\n",
       "    .dataframe tbody tr th {\n",
       "        vertical-align: top;\n",
       "    }\n",
       "\n",
       "    .dataframe thead th {\n",
       "        text-align: right;\n",
       "    }\n",
       "</style>\n",
       "<table border=\"1\" class=\"dataframe\">\n",
       "  <thead>\n",
       "    <tr style=\"text-align: right;\">\n",
       "      <th></th>\n",
       "      <th>TEMP</th>\n",
       "      <th>HUMEDAD</th>\n",
       "      <th>DATO</th>\n",
       "      <th>ANO</th>\n",
       "      <th>MES</th>\n",
       "      <th>DIA</th>\n",
       "      <th>DIA_SEMANA</th>\n",
       "      <th>HORA_NUMERICA</th>\n",
       "      <th>MINUTO_NUMERICO</th>\n",
       "      <th>FECHA</th>\n",
       "    </tr>\n",
       "  </thead>\n",
       "  <tbody>\n",
       "    <tr>\n",
       "      <th>0</th>\n",
       "      <td>26.833333</td>\n",
       "      <td>50.703333</td>\n",
       "      <td>9.28</td>\n",
       "      <td>2021</td>\n",
       "      <td>8</td>\n",
       "      <td>5</td>\n",
       "      <td>3</td>\n",
       "      <td>14</td>\n",
       "      <td>0</td>\n",
       "      <td>2021-08-05 14:00:00</td>\n",
       "    </tr>\n",
       "    <tr>\n",
       "      <th>1</th>\n",
       "      <td>26.833333</td>\n",
       "      <td>50.703333</td>\n",
       "      <td>11.88</td>\n",
       "      <td>2021</td>\n",
       "      <td>8</td>\n",
       "      <td>5</td>\n",
       "      <td>3</td>\n",
       "      <td>14</td>\n",
       "      <td>15</td>\n",
       "      <td>2021-08-05 14:15:00</td>\n",
       "    </tr>\n",
       "    <tr>\n",
       "      <th>2</th>\n",
       "      <td>26.833333</td>\n",
       "      <td>50.703333</td>\n",
       "      <td>11.24</td>\n",
       "      <td>2021</td>\n",
       "      <td>8</td>\n",
       "      <td>5</td>\n",
       "      <td>3</td>\n",
       "      <td>14</td>\n",
       "      <td>30</td>\n",
       "      <td>2021-08-05 14:30:00</td>\n",
       "    </tr>\n",
       "    <tr>\n",
       "      <th>3</th>\n",
       "      <td>26.833333</td>\n",
       "      <td>50.703333</td>\n",
       "      <td>12.04</td>\n",
       "      <td>2021</td>\n",
       "      <td>8</td>\n",
       "      <td>5</td>\n",
       "      <td>3</td>\n",
       "      <td>14</td>\n",
       "      <td>45</td>\n",
       "      <td>2021-08-05 14:45:00</td>\n",
       "    </tr>\n",
       "    <tr>\n",
       "      <th>4</th>\n",
       "      <td>26.833333</td>\n",
       "      <td>50.703333</td>\n",
       "      <td>11.52</td>\n",
       "      <td>2021</td>\n",
       "      <td>8</td>\n",
       "      <td>5</td>\n",
       "      <td>3</td>\n",
       "      <td>15</td>\n",
       "      <td>0</td>\n",
       "      <td>2021-08-05 15:00:00</td>\n",
       "    </tr>\n",
       "    <tr>\n",
       "      <th>...</th>\n",
       "      <td>...</td>\n",
       "      <td>...</td>\n",
       "      <td>...</td>\n",
       "      <td>...</td>\n",
       "      <td>...</td>\n",
       "      <td>...</td>\n",
       "      <td>...</td>\n",
       "      <td>...</td>\n",
       "      <td>...</td>\n",
       "      <td>...</td>\n",
       "    </tr>\n",
       "    <tr>\n",
       "      <th>46002</th>\n",
       "      <td>15.300000</td>\n",
       "      <td>87.740000</td>\n",
       "      <td>2.32</td>\n",
       "      <td>2022</td>\n",
       "      <td>12</td>\n",
       "      <td>12</td>\n",
       "      <td>0</td>\n",
       "      <td>6</td>\n",
       "      <td>0</td>\n",
       "      <td>2022-12-12 06:00:00</td>\n",
       "    </tr>\n",
       "    <tr>\n",
       "      <th>46003</th>\n",
       "      <td>15.300000</td>\n",
       "      <td>87.740000</td>\n",
       "      <td>2.36</td>\n",
       "      <td>2022</td>\n",
       "      <td>12</td>\n",
       "      <td>12</td>\n",
       "      <td>0</td>\n",
       "      <td>6</td>\n",
       "      <td>15</td>\n",
       "      <td>2022-12-12 06:15:00</td>\n",
       "    </tr>\n",
       "    <tr>\n",
       "      <th>46004</th>\n",
       "      <td>15.300000</td>\n",
       "      <td>87.740000</td>\n",
       "      <td>2.68</td>\n",
       "      <td>2022</td>\n",
       "      <td>12</td>\n",
       "      <td>12</td>\n",
       "      <td>0</td>\n",
       "      <td>6</td>\n",
       "      <td>30</td>\n",
       "      <td>2022-12-12 06:30:00</td>\n",
       "    </tr>\n",
       "    <tr>\n",
       "      <th>46005</th>\n",
       "      <td>15.300000</td>\n",
       "      <td>87.740000</td>\n",
       "      <td>2.88</td>\n",
       "      <td>2022</td>\n",
       "      <td>12</td>\n",
       "      <td>12</td>\n",
       "      <td>0</td>\n",
       "      <td>6</td>\n",
       "      <td>45</td>\n",
       "      <td>2022-12-12 06:45:00</td>\n",
       "    </tr>\n",
       "    <tr>\n",
       "      <th>46006</th>\n",
       "      <td>15.300000</td>\n",
       "      <td>87.740000</td>\n",
       "      <td>3.16</td>\n",
       "      <td>2022</td>\n",
       "      <td>12</td>\n",
       "      <td>12</td>\n",
       "      <td>0</td>\n",
       "      <td>7</td>\n",
       "      <td>0</td>\n",
       "      <td>2022-12-12 07:00:00</td>\n",
       "    </tr>\n",
       "  </tbody>\n",
       "</table>\n",
       "<p>46007 rows × 10 columns</p>\n",
       "</div>"
      ]
     },
     "metadata": {
      "application/vnd.databricks.v1+output": {
       "addedWidgets": {},
       "arguments": {},
       "data": "<div>\n<style scoped>\n    .dataframe tbody tr th:only-of-type {\n        vertical-align: middle;\n    }\n\n    .dataframe tbody tr th {\n        vertical-align: top;\n    }\n\n    .dataframe thead th {\n        text-align: right;\n    }\n</style>\n<table border=\"1\" class=\"dataframe\">\n  <thead>\n    <tr style=\"text-align: right;\">\n      <th></th>\n      <th>TEMP</th>\n      <th>HUMEDAD</th>\n      <th>DATO</th>\n      <th>ANO</th>\n      <th>MES</th>\n      <th>DIA</th>\n      <th>DIA_SEMANA</th>\n      <th>HORA_NUMERICA</th>\n      <th>MINUTO_NUMERICO</th>\n      <th>FECHA</th>\n    </tr>\n  </thead>\n  <tbody>\n    <tr>\n      <th>0</th>\n      <td>26.833333</td>\n      <td>50.703333</td>\n      <td>9.28</td>\n      <td>2021</td>\n      <td>8</td>\n      <td>5</td>\n      <td>3</td>\n      <td>14</td>\n      <td>0</td>\n      <td>2021-08-05 14:00:00</td>\n    </tr>\n    <tr>\n      <th>1</th>\n      <td>26.833333</td>\n      <td>50.703333</td>\n      <td>11.88</td>\n      <td>2021</td>\n      <td>8</td>\n      <td>5</td>\n      <td>3</td>\n      <td>14</td>\n      <td>15</td>\n      <td>2021-08-05 14:15:00</td>\n    </tr>\n    <tr>\n      <th>2</th>\n      <td>26.833333</td>\n      <td>50.703333</td>\n      <td>11.24</td>\n      <td>2021</td>\n      <td>8</td>\n      <td>5</td>\n      <td>3</td>\n      <td>14</td>\n      <td>30</td>\n      <td>2021-08-05 14:30:00</td>\n    </tr>\n    <tr>\n      <th>3</th>\n      <td>26.833333</td>\n      <td>50.703333</td>\n      <td>12.04</td>\n      <td>2021</td>\n      <td>8</td>\n      <td>5</td>\n      <td>3</td>\n      <td>14</td>\n      <td>45</td>\n      <td>2021-08-05 14:45:00</td>\n    </tr>\n    <tr>\n      <th>4</th>\n      <td>26.833333</td>\n      <td>50.703333</td>\n      <td>11.52</td>\n      <td>2021</td>\n      <td>8</td>\n      <td>5</td>\n      <td>3</td>\n      <td>15</td>\n      <td>0</td>\n      <td>2021-08-05 15:00:00</td>\n    </tr>\n    <tr>\n      <th>...</th>\n      <td>...</td>\n      <td>...</td>\n      <td>...</td>\n      <td>...</td>\n      <td>...</td>\n      <td>...</td>\n      <td>...</td>\n      <td>...</td>\n      <td>...</td>\n      <td>...</td>\n    </tr>\n    <tr>\n      <th>46002</th>\n      <td>15.300000</td>\n      <td>87.740000</td>\n      <td>2.32</td>\n      <td>2022</td>\n      <td>12</td>\n      <td>12</td>\n      <td>0</td>\n      <td>6</td>\n      <td>0</td>\n      <td>2022-12-12 06:00:00</td>\n    </tr>\n    <tr>\n      <th>46003</th>\n      <td>15.300000</td>\n      <td>87.740000</td>\n      <td>2.36</td>\n      <td>2022</td>\n      <td>12</td>\n      <td>12</td>\n      <td>0</td>\n      <td>6</td>\n      <td>15</td>\n      <td>2022-12-12 06:15:00</td>\n    </tr>\n    <tr>\n      <th>46004</th>\n      <td>15.300000</td>\n      <td>87.740000</td>\n      <td>2.68</td>\n      <td>2022</td>\n      <td>12</td>\n      <td>12</td>\n      <td>0</td>\n      <td>6</td>\n      <td>30</td>\n      <td>2022-12-12 06:30:00</td>\n    </tr>\n    <tr>\n      <th>46005</th>\n      <td>15.300000</td>\n      <td>87.740000</td>\n      <td>2.88</td>\n      <td>2022</td>\n      <td>12</td>\n      <td>12</td>\n      <td>0</td>\n      <td>6</td>\n      <td>45</td>\n      <td>2022-12-12 06:45:00</td>\n    </tr>\n    <tr>\n      <th>46006</th>\n      <td>15.300000</td>\n      <td>87.740000</td>\n      <td>3.16</td>\n      <td>2022</td>\n      <td>12</td>\n      <td>12</td>\n      <td>0</td>\n      <td>7</td>\n      <td>0</td>\n      <td>2022-12-12 07:00:00</td>\n    </tr>\n  </tbody>\n</table>\n<p>46007 rows × 10 columns</p>\n</div>",
       "datasetInfos": [],
       "metadata": {},
       "removedWidgets": [],
       "textData": null,
       "type": "htmlSandbox"
      }
     },
     "output_type": "display_data"
    }
   ],
   "source": [
    "X_prueba = df_Gasolinera_TempHum.copy()\n",
    "X_prueba['FECHA'] = X_prueba['ANO'].astype(str) + \"-\"+X_prueba['MES'].astype(str) +\"-\"+ X_prueba['DIA'].astype(str) + \" \" + X_prueba['HORA_NUMERICA'].astype(str) + \":\" + X_prueba['MINUTO_NUMERICO'].astype(str)\n",
    "X_prueba['FECHA'] = pd.to_datetime(X_prueba['FECHA'])\n",
    "df_Gasolinera_TempHum = X_prueba\n",
    "df_Gasolinera_TempHum"
   ]
  },
  {
   "cell_type": "code",
   "execution_count": 0,
   "metadata": {
    "application/vnd.databricks.v1+cell": {
     "cellMetadata": {
      "byteLimit": 2048000,
      "rowLimit": 10000
     },
     "inputWidgets": {},
     "nuid": "5e8556fd-40df-4b29-b2f7-824dd79b5d8f",
     "showTitle": false,
     "title": ""
    }
   },
   "outputs": [
    {
     "data": {
      "text/html": [
       "<div>\n",
       "<style scoped>\n",
       "    .dataframe tbody tr th:only-of-type {\n",
       "        vertical-align: middle;\n",
       "    }\n",
       "\n",
       "    .dataframe tbody tr th {\n",
       "        vertical-align: top;\n",
       "    }\n",
       "\n",
       "    .dataframe thead th {\n",
       "        text-align: right;\n",
       "    }\n",
       "</style>\n",
       "<table border=\"1\" class=\"dataframe\">\n",
       "  <thead>\n",
       "    <tr style=\"text-align: right;\">\n",
       "      <th></th>\n",
       "      <th>TEMP</th>\n",
       "      <th>HUMEDAD</th>\n",
       "      <th>DATO</th>\n",
       "      <th>ANO</th>\n",
       "      <th>MES</th>\n",
       "      <th>DIA</th>\n",
       "      <th>DIA_SEMANA</th>\n",
       "      <th>HORA_NUMERICA</th>\n",
       "      <th>MINUTO_NUMERICO</th>\n",
       "    </tr>\n",
       "    <tr>\n",
       "      <th>FECHA</th>\n",
       "      <th></th>\n",
       "      <th></th>\n",
       "      <th></th>\n",
       "      <th></th>\n",
       "      <th></th>\n",
       "      <th></th>\n",
       "      <th></th>\n",
       "      <th></th>\n",
       "      <th></th>\n",
       "    </tr>\n",
       "  </thead>\n",
       "  <tbody>\n",
       "    <tr>\n",
       "      <th>2021-08-05 14:00:00</th>\n",
       "      <td>26.833333</td>\n",
       "      <td>50.703333</td>\n",
       "      <td>9.28</td>\n",
       "      <td>2021</td>\n",
       "      <td>8</td>\n",
       "      <td>5</td>\n",
       "      <td>3</td>\n",
       "      <td>14</td>\n",
       "      <td>0</td>\n",
       "    </tr>\n",
       "    <tr>\n",
       "      <th>2021-08-05 14:15:00</th>\n",
       "      <td>26.833333</td>\n",
       "      <td>50.703333</td>\n",
       "      <td>11.88</td>\n",
       "      <td>2021</td>\n",
       "      <td>8</td>\n",
       "      <td>5</td>\n",
       "      <td>3</td>\n",
       "      <td>14</td>\n",
       "      <td>15</td>\n",
       "    </tr>\n",
       "    <tr>\n",
       "      <th>2021-08-05 14:30:00</th>\n",
       "      <td>26.833333</td>\n",
       "      <td>50.703333</td>\n",
       "      <td>11.24</td>\n",
       "      <td>2021</td>\n",
       "      <td>8</td>\n",
       "      <td>5</td>\n",
       "      <td>3</td>\n",
       "      <td>14</td>\n",
       "      <td>30</td>\n",
       "    </tr>\n",
       "    <tr>\n",
       "      <th>2021-08-05 14:45:00</th>\n",
       "      <td>26.833333</td>\n",
       "      <td>50.703333</td>\n",
       "      <td>12.04</td>\n",
       "      <td>2021</td>\n",
       "      <td>8</td>\n",
       "      <td>5</td>\n",
       "      <td>3</td>\n",
       "      <td>14</td>\n",
       "      <td>45</td>\n",
       "    </tr>\n",
       "    <tr>\n",
       "      <th>2021-08-05 15:00:00</th>\n",
       "      <td>26.833333</td>\n",
       "      <td>50.703333</td>\n",
       "      <td>11.52</td>\n",
       "      <td>2021</td>\n",
       "      <td>8</td>\n",
       "      <td>5</td>\n",
       "      <td>3</td>\n",
       "      <td>15</td>\n",
       "      <td>0</td>\n",
       "    </tr>\n",
       "  </tbody>\n",
       "</table>\n",
       "</div>"
      ]
     },
     "metadata": {
      "application/vnd.databricks.v1+output": {
       "addedWidgets": {},
       "arguments": {},
       "data": "<div>\n<style scoped>\n    .dataframe tbody tr th:only-of-type {\n        vertical-align: middle;\n    }\n\n    .dataframe tbody tr th {\n        vertical-align: top;\n    }\n\n    .dataframe thead th {\n        text-align: right;\n    }\n</style>\n<table border=\"1\" class=\"dataframe\">\n  <thead>\n    <tr style=\"text-align: right;\">\n      <th></th>\n      <th>TEMP</th>\n      <th>HUMEDAD</th>\n      <th>DATO</th>\n      <th>ANO</th>\n      <th>MES</th>\n      <th>DIA</th>\n      <th>DIA_SEMANA</th>\n      <th>HORA_NUMERICA</th>\n      <th>MINUTO_NUMERICO</th>\n    </tr>\n    <tr>\n      <th>FECHA</th>\n      <th></th>\n      <th></th>\n      <th></th>\n      <th></th>\n      <th></th>\n      <th></th>\n      <th></th>\n      <th></th>\n      <th></th>\n    </tr>\n  </thead>\n  <tbody>\n    <tr>\n      <th>2021-08-05 14:00:00</th>\n      <td>26.833333</td>\n      <td>50.703333</td>\n      <td>9.28</td>\n      <td>2021</td>\n      <td>8</td>\n      <td>5</td>\n      <td>3</td>\n      <td>14</td>\n      <td>0</td>\n    </tr>\n    <tr>\n      <th>2021-08-05 14:15:00</th>\n      <td>26.833333</td>\n      <td>50.703333</td>\n      <td>11.88</td>\n      <td>2021</td>\n      <td>8</td>\n      <td>5</td>\n      <td>3</td>\n      <td>14</td>\n      <td>15</td>\n    </tr>\n    <tr>\n      <th>2021-08-05 14:30:00</th>\n      <td>26.833333</td>\n      <td>50.703333</td>\n      <td>11.24</td>\n      <td>2021</td>\n      <td>8</td>\n      <td>5</td>\n      <td>3</td>\n      <td>14</td>\n      <td>30</td>\n    </tr>\n    <tr>\n      <th>2021-08-05 14:45:00</th>\n      <td>26.833333</td>\n      <td>50.703333</td>\n      <td>12.04</td>\n      <td>2021</td>\n      <td>8</td>\n      <td>5</td>\n      <td>3</td>\n      <td>14</td>\n      <td>45</td>\n    </tr>\n    <tr>\n      <th>2021-08-05 15:00:00</th>\n      <td>26.833333</td>\n      <td>50.703333</td>\n      <td>11.52</td>\n      <td>2021</td>\n      <td>8</td>\n      <td>5</td>\n      <td>3</td>\n      <td>15</td>\n      <td>0</td>\n    </tr>\n  </tbody>\n</table>\n</div>",
       "datasetInfos": [],
       "metadata": {},
       "removedWidgets": [],
       "textData": null,
       "type": "htmlSandbox"
      }
     },
     "output_type": "display_data"
    }
   ],
   "source": [
    "# se ordenan las fechas de la más antigua a la más nueva\n",
    "data = df_Gasolinera_TempHum.set_index('FECHA')\n",
    "data = data.sort_index()\n",
    "data.head()"
   ]
  },
  {
   "cell_type": "markdown",
   "metadata": {
    "application/vnd.databricks.v1+cell": {
     "cellMetadata": {
      "byteLimit": 2048000,
      "rowLimit": 10000
     },
     "inputWidgets": {},
     "nuid": "ab547e5f-c383-466b-b38d-c6214f29d79a",
     "showTitle": false,
     "title": ""
    }
   },
   "source": [
    "Al establecer una frecuencia con el método asfreq(), Pandas completa los huecos que puedan existir en la serie temporal con el valor de Null con el fin de asegurar la frecuencia indicada. Por ello, se debe comprobar si han aparecido missing values tras esta transformación."
   ]
  },
  {
   "cell_type": "code",
   "execution_count": 0,
   "metadata": {
    "application/vnd.databricks.v1+cell": {
     "cellMetadata": {
      "byteLimit": 2048000,
      "rowLimit": 10000
     },
     "inputWidgets": {},
     "nuid": "93bf3f23-0bd0-4adb-87e7-83affc5beb81",
     "showTitle": false,
     "title": ""
    }
   },
   "outputs": [],
   "source": [
    "df = data.asfreq('MS')"
   ]
  },
  {
   "cell_type": "code",
   "execution_count": 0,
   "metadata": {
    "application/vnd.databricks.v1+cell": {
     "cellMetadata": {
      "byteLimit": 2048000,
      "rowLimit": 10000
     },
     "inputWidgets": {},
     "nuid": "a5a75fb0-18c9-4e45-ad21-36991240b22a",
     "showTitle": false,
     "title": ""
    }
   },
   "outputs": [
    {
     "name": "stdout",
     "output_type": "stream",
     "text": [
      "Número de filas con missing values: 0.0\n"
     ]
    }
   ],
   "source": [
    "print(f'Número de filas con missing values: {df.isnull().any(axis=1).mean()}')"
   ]
  },
  {
   "cell_type": "code",
   "execution_count": 0,
   "metadata": {
    "application/vnd.databricks.v1+cell": {
     "cellMetadata": {
      "byteLimit": 2048000,
      "rowLimit": 10000
     },
     "inputWidgets": {},
     "nuid": "50c329e9-e83c-48ba-942d-90a985bdf991",
     "showTitle": false,
     "title": ""
    }
   },
   "outputs": [
    {
     "name": "stdout",
     "output_type": "stream",
     "text": [
      "Cantidad de nulos:  TEMP               0\n",
      "HUMEDAD            0\n",
      "DATO               0\n",
      "ANO                0\n",
      "MES                0\n",
      "DIA                0\n",
      "DIA_SEMANA         0\n",
      "HORA_NUMERICA      0\n",
      "MINUTO_NUMERICO    0\n",
      "dtype: int64\n"
     ]
    },
    {
     "data": {
      "text/html": [
       "<div>\n",
       "<style scoped>\n",
       "    .dataframe tbody tr th:only-of-type {\n",
       "        vertical-align: middle;\n",
       "    }\n",
       "\n",
       "    .dataframe tbody tr th {\n",
       "        vertical-align: top;\n",
       "    }\n",
       "\n",
       "    .dataframe thead th {\n",
       "        text-align: right;\n",
       "    }\n",
       "</style>\n",
       "<table border=\"1\" class=\"dataframe\">\n",
       "  <thead>\n",
       "    <tr style=\"text-align: right;\">\n",
       "      <th></th>\n",
       "      <th>TEMP</th>\n",
       "      <th>HUMEDAD</th>\n",
       "      <th>DATO</th>\n",
       "      <th>ANO</th>\n",
       "      <th>MES</th>\n",
       "      <th>DIA</th>\n",
       "      <th>DIA_SEMANA</th>\n",
       "      <th>HORA_NUMERICA</th>\n",
       "      <th>MINUTO_NUMERICO</th>\n",
       "    </tr>\n",
       "    <tr>\n",
       "      <th>FECHA</th>\n",
       "      <th></th>\n",
       "      <th></th>\n",
       "      <th></th>\n",
       "      <th></th>\n",
       "      <th></th>\n",
       "      <th></th>\n",
       "      <th></th>\n",
       "      <th></th>\n",
       "      <th></th>\n",
       "    </tr>\n",
       "  </thead>\n",
       "  <tbody>\n",
       "  </tbody>\n",
       "</table>\n",
       "</div>"
      ]
     },
     "metadata": {
      "application/vnd.databricks.v1+output": {
       "addedWidgets": {},
       "arguments": {},
       "data": "<div>\n<style scoped>\n    .dataframe tbody tr th:only-of-type {\n        vertical-align: middle;\n    }\n\n    .dataframe tbody tr th {\n        vertical-align: top;\n    }\n\n    .dataframe thead th {\n        text-align: right;\n    }\n</style>\n<table border=\"1\" class=\"dataframe\">\n  <thead>\n    <tr style=\"text-align: right;\">\n      <th></th>\n      <th>TEMP</th>\n      <th>HUMEDAD</th>\n      <th>DATO</th>\n      <th>ANO</th>\n      <th>MES</th>\n      <th>DIA</th>\n      <th>DIA_SEMANA</th>\n      <th>HORA_NUMERICA</th>\n      <th>MINUTO_NUMERICO</th>\n    </tr>\n    <tr>\n      <th>FECHA</th>\n      <th></th>\n      <th></th>\n      <th></th>\n      <th></th>\n      <th></th>\n      <th></th>\n      <th></th>\n      <th></th>\n      <th></th>\n    </tr>\n  </thead>\n  <tbody>\n  </tbody>\n</table>\n</div>",
       "datasetInfos": [],
       "metadata": {},
       "removedWidgets": [],
       "textData": null,
       "type": "htmlSandbox"
      }
     },
     "output_type": "display_data"
    }
   ],
   "source": [
    "print(\"Cantidad de nulos: \", df.isnull().sum())\n",
    "df.loc[df['DATO'].isnull() == True].head()"
   ]
  },
  {
   "cell_type": "markdown",
   "metadata": {
    "application/vnd.databricks.v1+cell": {
     "cellMetadata": {
      "byteLimit": 2048000,
      "rowLimit": 10000
     },
     "inputWidgets": {},
     "nuid": "5bffd95a-dd07-4352-8ba0-61d05acdb57a",
     "showTitle": false,
     "title": ""
    }
   },
   "source": [
    "No se encontraron valores faltantes ya que estos fueron eliminados del dataset en el notebook de limpieza"
   ]
  },
  {
   "cell_type": "code",
   "execution_count": 0,
   "metadata": {
    "application/vnd.databricks.v1+cell": {
     "cellMetadata": {
      "byteLimit": 2048000,
      "rowLimit": 10000
     },
     "inputWidgets": {},
     "nuid": "151a8462-009e-4183-9acf-1c85a2a057d4",
     "showTitle": false,
     "title": ""
    }
   },
   "outputs": [
    {
     "name": "stdout",
     "output_type": "stream",
     "text": [
      "Out[23]: True"
     ]
    }
   ],
   "source": [
    "# Verificar que un índice temporal está completo\n",
    "# ==============================================================================\n",
    "(df.index == pd.date_range(\n",
    "                    start = df.index.min(),\n",
    "                    end   = df.index.max(),\n",
    "                    freq  = df.index.freq)\n",
    ").all()"
   ]
  },
  {
   "cell_type": "markdown",
   "metadata": {
    "application/vnd.databricks.v1+cell": {
     "cellMetadata": {
      "byteLimit": 2048000,
      "rowLimit": 10000
     },
     "inputWidgets": {},
     "nuid": "c8d3f614-94e4-4e46-bc53-5d79e0e543af",
     "showTitle": false,
     "title": ""
    }
   },
   "source": [
    "## Subset de agosto"
   ]
  },
  {
   "cell_type": "markdown",
   "metadata": {
    "application/vnd.databricks.v1+cell": {
     "cellMetadata": {
      "byteLimit": 2048000,
      "rowLimit": 10000
     },
     "inputWidgets": {},
     "nuid": "b30a80f1-27aa-429c-acab-7fb4dbd7d435",
     "showTitle": false,
     "title": ""
    }
   },
   "source": [
    "Como primer caso se decidió analizar únicamente el mes de Agosto de 2021 para el Sector: Gasolinera"
   ]
  },
  {
   "cell_type": "code",
   "execution_count": 0,
   "metadata": {
    "application/vnd.databricks.v1+cell": {
     "cellMetadata": {
      "byteLimit": 2048000,
      "rowLimit": 10000
     },
     "inputWidgets": {},
     "nuid": "1ae307fc-2964-4ed8-a2fc-80879da77722",
     "showTitle": false,
     "title": ""
    }
   },
   "outputs": [
    {
     "data": {
      "text/html": [
       "<div>\n",
       "<style scoped>\n",
       "    .dataframe tbody tr th:only-of-type {\n",
       "        vertical-align: middle;\n",
       "    }\n",
       "\n",
       "    .dataframe tbody tr th {\n",
       "        vertical-align: top;\n",
       "    }\n",
       "\n",
       "    .dataframe thead th {\n",
       "        text-align: right;\n",
       "    }\n",
       "</style>\n",
       "<table border=\"1\" class=\"dataframe\">\n",
       "  <thead>\n",
       "    <tr style=\"text-align: right;\">\n",
       "      <th></th>\n",
       "      <th>TEMP</th>\n",
       "      <th>HUMEDAD</th>\n",
       "      <th>DATO</th>\n",
       "      <th>ANO</th>\n",
       "      <th>MES</th>\n",
       "      <th>DIA</th>\n",
       "      <th>DIA_SEMANA</th>\n",
       "      <th>HORA_NUMERICA</th>\n",
       "      <th>MINUTO_NUMERICO</th>\n",
       "    </tr>\n",
       "    <tr>\n",
       "      <th>FECHA</th>\n",
       "      <th></th>\n",
       "      <th></th>\n",
       "      <th></th>\n",
       "      <th></th>\n",
       "      <th></th>\n",
       "      <th></th>\n",
       "      <th></th>\n",
       "      <th></th>\n",
       "      <th></th>\n",
       "    </tr>\n",
       "  </thead>\n",
       "  <tbody>\n",
       "    <tr>\n",
       "      <th>2021-08-05 14:00:00</th>\n",
       "      <td>26.833333</td>\n",
       "      <td>50.703333</td>\n",
       "      <td>9.28</td>\n",
       "      <td>2021</td>\n",
       "      <td>8</td>\n",
       "      <td>5</td>\n",
       "      <td>3</td>\n",
       "      <td>14</td>\n",
       "      <td>0</td>\n",
       "    </tr>\n",
       "    <tr>\n",
       "      <th>2021-08-05 14:15:00</th>\n",
       "      <td>26.833333</td>\n",
       "      <td>50.703333</td>\n",
       "      <td>11.88</td>\n",
       "      <td>2021</td>\n",
       "      <td>8</td>\n",
       "      <td>5</td>\n",
       "      <td>3</td>\n",
       "      <td>14</td>\n",
       "      <td>15</td>\n",
       "    </tr>\n",
       "    <tr>\n",
       "      <th>2021-08-05 14:30:00</th>\n",
       "      <td>26.833333</td>\n",
       "      <td>50.703333</td>\n",
       "      <td>11.24</td>\n",
       "      <td>2021</td>\n",
       "      <td>8</td>\n",
       "      <td>5</td>\n",
       "      <td>3</td>\n",
       "      <td>14</td>\n",
       "      <td>30</td>\n",
       "    </tr>\n",
       "    <tr>\n",
       "      <th>2021-08-05 14:45:00</th>\n",
       "      <td>26.833333</td>\n",
       "      <td>50.703333</td>\n",
       "      <td>12.04</td>\n",
       "      <td>2021</td>\n",
       "      <td>8</td>\n",
       "      <td>5</td>\n",
       "      <td>3</td>\n",
       "      <td>14</td>\n",
       "      <td>45</td>\n",
       "    </tr>\n",
       "    <tr>\n",
       "      <th>2021-08-05 15:00:00</th>\n",
       "      <td>26.833333</td>\n",
       "      <td>50.703333</td>\n",
       "      <td>11.52</td>\n",
       "      <td>2021</td>\n",
       "      <td>8</td>\n",
       "      <td>5</td>\n",
       "      <td>3</td>\n",
       "      <td>15</td>\n",
       "      <td>0</td>\n",
       "    </tr>\n",
       "    <tr>\n",
       "      <th>...</th>\n",
       "      <td>...</td>\n",
       "      <td>...</td>\n",
       "      <td>...</td>\n",
       "      <td>...</td>\n",
       "      <td>...</td>\n",
       "      <td>...</td>\n",
       "      <td>...</td>\n",
       "      <td>...</td>\n",
       "      <td>...</td>\n",
       "    </tr>\n",
       "    <tr>\n",
       "      <th>2021-08-31 22:45:00</th>\n",
       "      <td>24.866667</td>\n",
       "      <td>55.876667</td>\n",
       "      <td>7.28</td>\n",
       "      <td>2021</td>\n",
       "      <td>8</td>\n",
       "      <td>31</td>\n",
       "      <td>1</td>\n",
       "      <td>22</td>\n",
       "      <td>45</td>\n",
       "    </tr>\n",
       "    <tr>\n",
       "      <th>2021-08-31 23:00:00</th>\n",
       "      <td>24.866667</td>\n",
       "      <td>55.876667</td>\n",
       "      <td>7.76</td>\n",
       "      <td>2021</td>\n",
       "      <td>8</td>\n",
       "      <td>31</td>\n",
       "      <td>1</td>\n",
       "      <td>23</td>\n",
       "      <td>0</td>\n",
       "    </tr>\n",
       "    <tr>\n",
       "      <th>2021-08-31 23:15:00</th>\n",
       "      <td>24.866667</td>\n",
       "      <td>55.876667</td>\n",
       "      <td>6.80</td>\n",
       "      <td>2021</td>\n",
       "      <td>8</td>\n",
       "      <td>31</td>\n",
       "      <td>1</td>\n",
       "      <td>23</td>\n",
       "      <td>15</td>\n",
       "    </tr>\n",
       "    <tr>\n",
       "      <th>2021-08-31 23:30:00</th>\n",
       "      <td>24.866667</td>\n",
       "      <td>55.876667</td>\n",
       "      <td>5.76</td>\n",
       "      <td>2021</td>\n",
       "      <td>8</td>\n",
       "      <td>31</td>\n",
       "      <td>1</td>\n",
       "      <td>23</td>\n",
       "      <td>30</td>\n",
       "    </tr>\n",
       "    <tr>\n",
       "      <th>2021-08-31 23:45:00</th>\n",
       "      <td>24.866667</td>\n",
       "      <td>55.876667</td>\n",
       "      <td>5.64</td>\n",
       "      <td>2021</td>\n",
       "      <td>8</td>\n",
       "      <td>31</td>\n",
       "      <td>1</td>\n",
       "      <td>23</td>\n",
       "      <td>45</td>\n",
       "    </tr>\n",
       "  </tbody>\n",
       "</table>\n",
       "<p>2528 rows × 9 columns</p>\n",
       "</div>"
      ]
     },
     "metadata": {
      "application/vnd.databricks.v1+output": {
       "addedWidgets": {},
       "arguments": {},
       "data": "<div>\n<style scoped>\n    .dataframe tbody tr th:only-of-type {\n        vertical-align: middle;\n    }\n\n    .dataframe tbody tr th {\n        vertical-align: top;\n    }\n\n    .dataframe thead th {\n        text-align: right;\n    }\n</style>\n<table border=\"1\" class=\"dataframe\">\n  <thead>\n    <tr style=\"text-align: right;\">\n      <th></th>\n      <th>TEMP</th>\n      <th>HUMEDAD</th>\n      <th>DATO</th>\n      <th>ANO</th>\n      <th>MES</th>\n      <th>DIA</th>\n      <th>DIA_SEMANA</th>\n      <th>HORA_NUMERICA</th>\n      <th>MINUTO_NUMERICO</th>\n    </tr>\n    <tr>\n      <th>FECHA</th>\n      <th></th>\n      <th></th>\n      <th></th>\n      <th></th>\n      <th></th>\n      <th></th>\n      <th></th>\n      <th></th>\n      <th></th>\n    </tr>\n  </thead>\n  <tbody>\n    <tr>\n      <th>2021-08-05 14:00:00</th>\n      <td>26.833333</td>\n      <td>50.703333</td>\n      <td>9.28</td>\n      <td>2021</td>\n      <td>8</td>\n      <td>5</td>\n      <td>3</td>\n      <td>14</td>\n      <td>0</td>\n    </tr>\n    <tr>\n      <th>2021-08-05 14:15:00</th>\n      <td>26.833333</td>\n      <td>50.703333</td>\n      <td>11.88</td>\n      <td>2021</td>\n      <td>8</td>\n      <td>5</td>\n      <td>3</td>\n      <td>14</td>\n      <td>15</td>\n    </tr>\n    <tr>\n      <th>2021-08-05 14:30:00</th>\n      <td>26.833333</td>\n      <td>50.703333</td>\n      <td>11.24</td>\n      <td>2021</td>\n      <td>8</td>\n      <td>5</td>\n      <td>3</td>\n      <td>14</td>\n      <td>30</td>\n    </tr>\n    <tr>\n      <th>2021-08-05 14:45:00</th>\n      <td>26.833333</td>\n      <td>50.703333</td>\n      <td>12.04</td>\n      <td>2021</td>\n      <td>8</td>\n      <td>5</td>\n      <td>3</td>\n      <td>14</td>\n      <td>45</td>\n    </tr>\n    <tr>\n      <th>2021-08-05 15:00:00</th>\n      <td>26.833333</td>\n      <td>50.703333</td>\n      <td>11.52</td>\n      <td>2021</td>\n      <td>8</td>\n      <td>5</td>\n      <td>3</td>\n      <td>15</td>\n      <td>0</td>\n    </tr>\n    <tr>\n      <th>...</th>\n      <td>...</td>\n      <td>...</td>\n      <td>...</td>\n      <td>...</td>\n      <td>...</td>\n      <td>...</td>\n      <td>...</td>\n      <td>...</td>\n      <td>...</td>\n    </tr>\n    <tr>\n      <th>2021-08-31 22:45:00</th>\n      <td>24.866667</td>\n      <td>55.876667</td>\n      <td>7.28</td>\n      <td>2021</td>\n      <td>8</td>\n      <td>31</td>\n      <td>1</td>\n      <td>22</td>\n      <td>45</td>\n    </tr>\n    <tr>\n      <th>2021-08-31 23:00:00</th>\n      <td>24.866667</td>\n      <td>55.876667</td>\n      <td>7.76</td>\n      <td>2021</td>\n      <td>8</td>\n      <td>31</td>\n      <td>1</td>\n      <td>23</td>\n      <td>0</td>\n    </tr>\n    <tr>\n      <th>2021-08-31 23:15:00</th>\n      <td>24.866667</td>\n      <td>55.876667</td>\n      <td>6.80</td>\n      <td>2021</td>\n      <td>8</td>\n      <td>31</td>\n      <td>1</td>\n      <td>23</td>\n      <td>15</td>\n    </tr>\n    <tr>\n      <th>2021-08-31 23:30:00</th>\n      <td>24.866667</td>\n      <td>55.876667</td>\n      <td>5.76</td>\n      <td>2021</td>\n      <td>8</td>\n      <td>31</td>\n      <td>1</td>\n      <td>23</td>\n      <td>30</td>\n    </tr>\n    <tr>\n      <th>2021-08-31 23:45:00</th>\n      <td>24.866667</td>\n      <td>55.876667</td>\n      <td>5.64</td>\n      <td>2021</td>\n      <td>8</td>\n      <td>31</td>\n      <td>1</td>\n      <td>23</td>\n      <td>45</td>\n    </tr>\n  </tbody>\n</table>\n<p>2528 rows × 9 columns</p>\n</div>",
       "datasetInfos": [],
       "metadata": {},
       "removedWidgets": [],
       "textData": null,
       "type": "htmlSandbox"
      }
     },
     "output_type": "display_data"
    }
   ],
   "source": [
    "#df_cau_agosto = data[(data.index.strftime('%Y-%m').str.startswith('2021-08')) | (data.index.strftime('%Y-%m').str.startswith('2021-09')) | #(data.index.strftime('%Y-%m').str.startswith('2021-10')) | (data.index.strftime('%Y-%m').str.startswith('2021-11'))]\n",
    "df_cau_agosto = data.loc[(data.index.month == 8) & (data.index.year == 2021)]\n",
    "\n",
    "df_cau_agosto\n"
   ]
  },
  {
   "cell_type": "markdown",
   "metadata": {
    "application/vnd.databricks.v1+cell": {
     "cellMetadata": {
      "byteLimit": 2048000,
      "rowLimit": 10000
     },
     "inputWidgets": {},
     "nuid": "efcf9d33-c782-4996-aeb5-1308683a957f",
     "showTitle": false,
     "title": ""
    }
   },
   "source": [
    "#### Ahora nos quedamos con el target \"Dato\" y con las features de temperatura y humedad\n",
    "Se eliminan las columnas que contenían AÑO, MES, DIA, DIA_SEMANA, HORA_NUMERICA, MINUTO_NUMERICO por separado y nos quedamos con la que tiene la marca date-time unida."
   ]
  },
  {
   "cell_type": "code",
   "execution_count": 0,
   "metadata": {
    "application/vnd.databricks.v1+cell": {
     "cellMetadata": {
      "byteLimit": 2048000,
      "rowLimit": 10000
     },
     "inputWidgets": {},
     "nuid": "9b11f84f-e741-4977-be8e-8fcf7aaf0cad",
     "showTitle": false,
     "title": ""
    }
   },
   "outputs": [
    {
     "data": {
      "text/html": [
       "<div>\n",
       "<style scoped>\n",
       "    .dataframe tbody tr th:only-of-type {\n",
       "        vertical-align: middle;\n",
       "    }\n",
       "\n",
       "    .dataframe tbody tr th {\n",
       "        vertical-align: top;\n",
       "    }\n",
       "\n",
       "    .dataframe thead th {\n",
       "        text-align: right;\n",
       "    }\n",
       "</style>\n",
       "<table border=\"1\" class=\"dataframe\">\n",
       "  <thead>\n",
       "    <tr style=\"text-align: right;\">\n",
       "      <th></th>\n",
       "      <th>TEMP</th>\n",
       "      <th>HUMEDAD</th>\n",
       "      <th>DATO</th>\n",
       "    </tr>\n",
       "    <tr>\n",
       "      <th>FECHA</th>\n",
       "      <th></th>\n",
       "      <th></th>\n",
       "      <th></th>\n",
       "    </tr>\n",
       "  </thead>\n",
       "  <tbody>\n",
       "    <tr>\n",
       "      <th>2021-08-05 14:00:00</th>\n",
       "      <td>26.833333</td>\n",
       "      <td>50.703333</td>\n",
       "      <td>9.28</td>\n",
       "    </tr>\n",
       "    <tr>\n",
       "      <th>2021-08-05 14:15:00</th>\n",
       "      <td>26.833333</td>\n",
       "      <td>50.703333</td>\n",
       "      <td>11.88</td>\n",
       "    </tr>\n",
       "    <tr>\n",
       "      <th>2021-08-05 14:30:00</th>\n",
       "      <td>26.833333</td>\n",
       "      <td>50.703333</td>\n",
       "      <td>11.24</td>\n",
       "    </tr>\n",
       "    <tr>\n",
       "      <th>2021-08-05 14:45:00</th>\n",
       "      <td>26.833333</td>\n",
       "      <td>50.703333</td>\n",
       "      <td>12.04</td>\n",
       "    </tr>\n",
       "    <tr>\n",
       "      <th>2021-08-05 15:00:00</th>\n",
       "      <td>26.833333</td>\n",
       "      <td>50.703333</td>\n",
       "      <td>11.52</td>\n",
       "    </tr>\n",
       "    <tr>\n",
       "      <th>...</th>\n",
       "      <td>...</td>\n",
       "      <td>...</td>\n",
       "      <td>...</td>\n",
       "    </tr>\n",
       "    <tr>\n",
       "      <th>2021-08-31 22:45:00</th>\n",
       "      <td>24.866667</td>\n",
       "      <td>55.876667</td>\n",
       "      <td>7.28</td>\n",
       "    </tr>\n",
       "    <tr>\n",
       "      <th>2021-08-31 23:00:00</th>\n",
       "      <td>24.866667</td>\n",
       "      <td>55.876667</td>\n",
       "      <td>7.76</td>\n",
       "    </tr>\n",
       "    <tr>\n",
       "      <th>2021-08-31 23:15:00</th>\n",
       "      <td>24.866667</td>\n",
       "      <td>55.876667</td>\n",
       "      <td>6.80</td>\n",
       "    </tr>\n",
       "    <tr>\n",
       "      <th>2021-08-31 23:30:00</th>\n",
       "      <td>24.866667</td>\n",
       "      <td>55.876667</td>\n",
       "      <td>5.76</td>\n",
       "    </tr>\n",
       "    <tr>\n",
       "      <th>2021-08-31 23:45:00</th>\n",
       "      <td>24.866667</td>\n",
       "      <td>55.876667</td>\n",
       "      <td>5.64</td>\n",
       "    </tr>\n",
       "  </tbody>\n",
       "</table>\n",
       "<p>2528 rows × 3 columns</p>\n",
       "</div>"
      ]
     },
     "metadata": {
      "application/vnd.databricks.v1+output": {
       "addedWidgets": {},
       "arguments": {},
       "data": "<div>\n<style scoped>\n    .dataframe tbody tr th:only-of-type {\n        vertical-align: middle;\n    }\n\n    .dataframe tbody tr th {\n        vertical-align: top;\n    }\n\n    .dataframe thead th {\n        text-align: right;\n    }\n</style>\n<table border=\"1\" class=\"dataframe\">\n  <thead>\n    <tr style=\"text-align: right;\">\n      <th></th>\n      <th>TEMP</th>\n      <th>HUMEDAD</th>\n      <th>DATO</th>\n    </tr>\n    <tr>\n      <th>FECHA</th>\n      <th></th>\n      <th></th>\n      <th></th>\n    </tr>\n  </thead>\n  <tbody>\n    <tr>\n      <th>2021-08-05 14:00:00</th>\n      <td>26.833333</td>\n      <td>50.703333</td>\n      <td>9.28</td>\n    </tr>\n    <tr>\n      <th>2021-08-05 14:15:00</th>\n      <td>26.833333</td>\n      <td>50.703333</td>\n      <td>11.88</td>\n    </tr>\n    <tr>\n      <th>2021-08-05 14:30:00</th>\n      <td>26.833333</td>\n      <td>50.703333</td>\n      <td>11.24</td>\n    </tr>\n    <tr>\n      <th>2021-08-05 14:45:00</th>\n      <td>26.833333</td>\n      <td>50.703333</td>\n      <td>12.04</td>\n    </tr>\n    <tr>\n      <th>2021-08-05 15:00:00</th>\n      <td>26.833333</td>\n      <td>50.703333</td>\n      <td>11.52</td>\n    </tr>\n    <tr>\n      <th>...</th>\n      <td>...</td>\n      <td>...</td>\n      <td>...</td>\n    </tr>\n    <tr>\n      <th>2021-08-31 22:45:00</th>\n      <td>24.866667</td>\n      <td>55.876667</td>\n      <td>7.28</td>\n    </tr>\n    <tr>\n      <th>2021-08-31 23:00:00</th>\n      <td>24.866667</td>\n      <td>55.876667</td>\n      <td>7.76</td>\n    </tr>\n    <tr>\n      <th>2021-08-31 23:15:00</th>\n      <td>24.866667</td>\n      <td>55.876667</td>\n      <td>6.80</td>\n    </tr>\n    <tr>\n      <th>2021-08-31 23:30:00</th>\n      <td>24.866667</td>\n      <td>55.876667</td>\n      <td>5.76</td>\n    </tr>\n    <tr>\n      <th>2021-08-31 23:45:00</th>\n      <td>24.866667</td>\n      <td>55.876667</td>\n      <td>5.64</td>\n    </tr>\n  </tbody>\n</table>\n<p>2528 rows × 3 columns</p>\n</div>",
       "datasetInfos": [],
       "metadata": {},
       "removedWidgets": [],
       "textData": null,
       "type": "htmlSandbox"
      }
     },
     "output_type": "display_data"
    }
   ],
   "source": [
    "df_cau_agosto = df_cau_agosto.drop([\"ANO\",\"MES\",\"DIA\",\"DIA_SEMANA\",\"HORA_NUMERICA\",\"MINUTO_NUMERICO\"], axis=1)\n",
    "df_cau_agosto"
   ]
  },
  {
   "cell_type": "code",
   "execution_count": 0,
   "metadata": {
    "application/vnd.databricks.v1+cell": {
     "cellMetadata": {
      "byteLimit": 2048000,
      "rowLimit": 10000
     },
     "inputWidgets": {},
     "nuid": "4be0685e-d920-4458-a795-fca7a6048e4e",
     "showTitle": false,
     "title": ""
    }
   },
   "outputs": [
    {
     "name": "stdout",
     "output_type": "stream",
     "text": [
      "Out[26]: \"df_cau_agosto = df_cau_agosto.asfreq('MS')\""
     ]
    }
   ],
   "source": [
    "'''df_cau_agosto = df_cau_agosto.asfreq('MS')'''"
   ]
  },
  {
   "cell_type": "code",
   "execution_count": 0,
   "metadata": {
    "application/vnd.databricks.v1+cell": {
     "cellMetadata": {
      "byteLimit": 2048000,
      "rowLimit": 10000
     },
     "inputWidgets": {},
     "nuid": "98df2a08-a7e6-47ad-a440-b802a90358ca",
     "showTitle": false,
     "title": ""
    }
   },
   "outputs": [
    {
     "name": "stdout",
     "output_type": "stream",
     "text": [
      "Out[27]: TEMP       0\n",
      "HUMEDAD    0\n",
      "DATO       0\n",
      "dtype: int64"
     ]
    }
   ],
   "source": [
    "# Checar si hay datos null\n",
    "df_cau_agosto.isnull().sum()"
   ]
  },
  {
   "cell_type": "markdown",
   "metadata": {
    "application/vnd.databricks.v1+cell": {
     "cellMetadata": {
      "byteLimit": 2048000,
      "rowLimit": 10000
     },
     "inputWidgets": {},
     "nuid": "e10afcc2-a9cd-4fa1-9084-8406c71f5ee3",
     "showTitle": false,
     "title": ""
    }
   },
   "source": [
    "#### Import de librerías\n",
    "Se importaron las librerías a usar"
   ]
  },
  {
   "cell_type": "code",
   "execution_count": 0,
   "metadata": {
    "application/vnd.databricks.v1+cell": {
     "cellMetadata": {
      "byteLimit": 2048000,
      "rowLimit": 10000
     },
     "inputWidgets": {},
     "nuid": "fdd2194c-9d50-44e3-92f3-004d72754836",
     "showTitle": false,
     "title": ""
    }
   },
   "outputs": [],
   "source": [
    "# Gráficos\n",
    "# ==============================================================================\n",
    "import matplotlib.pyplot as plt\n",
    "plt.style.use('fivethirtyeight')\n",
    "plt.rcParams['lines.linewidth'] = 1.5\n",
    "\n",
    "# Modelado y Forecasting\n",
    "# ==============================================================================\n",
    "from sklearn.linear_model import LinearRegression\n",
    "from sklearn.linear_model import Lasso\n",
    "from sklearn.ensemble import RandomForestRegressor\n",
    "from sklearn.metrics import mean_squared_error\n",
    "from sklearn.preprocessing import StandardScaler\n",
    "from sklearn.pipeline import make_pipeline\n",
    "\n",
    "from skforecast.ForecasterAutoreg import ForecasterAutoreg\n",
    "from skforecast.ForecasterAutoregCustom import ForecasterAutoregCustom\n",
    "from skforecast.ForecasterAutoregDirect import ForecasterAutoregDirect\n",
    "from skforecast.model_selection import grid_search_forecaster\n",
    "from skforecast.model_selection import backtesting_forecaster\n",
    "from skforecast.utils import save_forecaster\n",
    "from skforecast.utils import load_forecaster"
   ]
  },
  {
   "cell_type": "code",
   "execution_count": 0,
   "metadata": {
    "application/vnd.databricks.v1+cell": {
     "cellMetadata": {
      "byteLimit": 2048000,
      "rowLimit": 10000
     },
     "inputWidgets": {},
     "nuid": "28238a04-17c0-4022-8cef-de8b47a2f8d5",
     "showTitle": false,
     "title": ""
    }
   },
   "outputs": [],
   "source": [
    "# Separación datos train-test\n",
    "# ==============================================================================\n",
    "steps = 300\n",
    "datos_train = df_cau_agosto[:-steps]\n",
    "datos_test  = df_cau_agosto[-steps:]\n",
    "\n",
    "print(f\"Fechas train : {datos_train.index.min()} --- {datos_train.index.max()}  (n={len(datos_train)})\")\n",
    "print(f\"Fechas test  : {datos_test.index.min()} --- {datos_test.index.max()}  (n={len(datos_test)})\")\n",
    "\n",
    "fig, ax = plt.subplots(figsize=(7, 3))\n",
    "datos_train['DATO'].plot(ax=ax, label='train')\n",
    "datos_test['DATO'].plot(ax=ax, label='test')\n",
    "ax.legend();"
   ]
  },
  {
   "cell_type": "code",
   "execution_count": 0,
   "metadata": {
    "application/vnd.databricks.v1+cell": {
     "cellMetadata": {
      "byteLimit": 2048000,
      "rowLimit": 10000
     },
     "inputWidgets": {},
     "nuid": "4c01d82c-2e98-45c4-ae46-2fcceedf1019",
     "showTitle": false,
     "title": ""
    }
   },
   "outputs": [
    {
     "name": "stdout",
     "output_type": "stream",
     "text": [
      "py4j.clientserver INFO  Received command c on object id p0\n"
     ]
    },
    {
     "data": {
      "text/html": [
       "<div>\n",
       "<style scoped>\n",
       "    .dataframe tbody tr th:only-of-type {\n",
       "        vertical-align: middle;\n",
       "    }\n",
       "\n",
       "    .dataframe tbody tr th {\n",
       "        vertical-align: top;\n",
       "    }\n",
       "\n",
       "    .dataframe thead th {\n",
       "        text-align: right;\n",
       "    }\n",
       "</style>\n",
       "<table border=\"1\" class=\"dataframe\">\n",
       "  <thead>\n",
       "    <tr style=\"text-align: right;\">\n",
       "      <th></th>\n",
       "      <th>TEMP</th>\n",
       "      <th>HUMEDAD</th>\n",
       "      <th>DATO</th>\n",
       "    </tr>\n",
       "    <tr>\n",
       "      <th>FECHA</th>\n",
       "      <th></th>\n",
       "      <th></th>\n",
       "      <th></th>\n",
       "    </tr>\n",
       "  </thead>\n",
       "  <tbody>\n",
       "    <tr>\n",
       "      <th>2021-08-05 14:00:00</th>\n",
       "      <td>26.833333</td>\n",
       "      <td>50.703333</td>\n",
       "      <td>9.28</td>\n",
       "    </tr>\n",
       "    <tr>\n",
       "      <th>2021-08-05 14:15:00</th>\n",
       "      <td>26.833333</td>\n",
       "      <td>50.703333</td>\n",
       "      <td>11.88</td>\n",
       "    </tr>\n",
       "    <tr>\n",
       "      <th>2021-08-05 14:30:00</th>\n",
       "      <td>26.833333</td>\n",
       "      <td>50.703333</td>\n",
       "      <td>11.24</td>\n",
       "    </tr>\n",
       "    <tr>\n",
       "      <th>2021-08-05 14:45:00</th>\n",
       "      <td>26.833333</td>\n",
       "      <td>50.703333</td>\n",
       "      <td>12.04</td>\n",
       "    </tr>\n",
       "    <tr>\n",
       "      <th>2021-08-05 15:00:00</th>\n",
       "      <td>26.833333</td>\n",
       "      <td>50.703333</td>\n",
       "      <td>11.52</td>\n",
       "    </tr>\n",
       "    <tr>\n",
       "      <th>...</th>\n",
       "      <td>...</td>\n",
       "      <td>...</td>\n",
       "      <td>...</td>\n",
       "    </tr>\n",
       "    <tr>\n",
       "      <th>2021-08-28 19:45:00</th>\n",
       "      <td>25.366667</td>\n",
       "      <td>55.223333</td>\n",
       "      <td>8.80</td>\n",
       "    </tr>\n",
       "    <tr>\n",
       "      <th>2021-08-28 20:00:00</th>\n",
       "      <td>25.366667</td>\n",
       "      <td>55.223333</td>\n",
       "      <td>8.48</td>\n",
       "    </tr>\n",
       "    <tr>\n",
       "      <th>2021-08-28 20:15:00</th>\n",
       "      <td>25.366667</td>\n",
       "      <td>55.223333</td>\n",
       "      <td>9.36</td>\n",
       "    </tr>\n",
       "    <tr>\n",
       "      <th>2021-08-28 20:30:00</th>\n",
       "      <td>25.366667</td>\n",
       "      <td>55.223333</td>\n",
       "      <td>8.08</td>\n",
       "    </tr>\n",
       "    <tr>\n",
       "      <th>2021-08-28 20:45:00</th>\n",
       "      <td>25.366667</td>\n",
       "      <td>55.223333</td>\n",
       "      <td>8.84</td>\n",
       "    </tr>\n",
       "  </tbody>\n",
       "</table>\n",
       "<p>2228 rows × 3 columns</p>\n",
       "</div>"
      ]
     },
     "metadata": {
      "application/vnd.databricks.v1+output": {
       "addedWidgets": {},
       "arguments": {},
       "data": "<div>\n<style scoped>\n    .dataframe tbody tr th:only-of-type {\n        vertical-align: middle;\n    }\n\n    .dataframe tbody tr th {\n        vertical-align: top;\n    }\n\n    .dataframe thead th {\n        text-align: right;\n    }\n</style>\n<table border=\"1\" class=\"dataframe\">\n  <thead>\n    <tr style=\"text-align: right;\">\n      <th></th>\n      <th>TEMP</th>\n      <th>HUMEDAD</th>\n      <th>DATO</th>\n    </tr>\n    <tr>\n      <th>FECHA</th>\n      <th></th>\n      <th></th>\n      <th></th>\n    </tr>\n  </thead>\n  <tbody>\n    <tr>\n      <th>2021-08-05 14:00:00</th>\n      <td>26.833333</td>\n      <td>50.703333</td>\n      <td>9.28</td>\n    </tr>\n    <tr>\n      <th>2021-08-05 14:15:00</th>\n      <td>26.833333</td>\n      <td>50.703333</td>\n      <td>11.88</td>\n    </tr>\n    <tr>\n      <th>2021-08-05 14:30:00</th>\n      <td>26.833333</td>\n      <td>50.703333</td>\n      <td>11.24</td>\n    </tr>\n    <tr>\n      <th>2021-08-05 14:45:00</th>\n      <td>26.833333</td>\n      <td>50.703333</td>\n      <td>12.04</td>\n    </tr>\n    <tr>\n      <th>2021-08-05 15:00:00</th>\n      <td>26.833333</td>\n      <td>50.703333</td>\n      <td>11.52</td>\n    </tr>\n    <tr>\n      <th>...</th>\n      <td>...</td>\n      <td>...</td>\n      <td>...</td>\n    </tr>\n    <tr>\n      <th>2021-08-28 19:45:00</th>\n      <td>25.366667</td>\n      <td>55.223333</td>\n      <td>8.80</td>\n    </tr>\n    <tr>\n      <th>2021-08-28 20:00:00</th>\n      <td>25.366667</td>\n      <td>55.223333</td>\n      <td>8.48</td>\n    </tr>\n    <tr>\n      <th>2021-08-28 20:15:00</th>\n      <td>25.366667</td>\n      <td>55.223333</td>\n      <td>9.36</td>\n    </tr>\n    <tr>\n      <th>2021-08-28 20:30:00</th>\n      <td>25.366667</td>\n      <td>55.223333</td>\n      <td>8.08</td>\n    </tr>\n    <tr>\n      <th>2021-08-28 20:45:00</th>\n      <td>25.366667</td>\n      <td>55.223333</td>\n      <td>8.84</td>\n    </tr>\n  </tbody>\n</table>\n<p>2228 rows × 3 columns</p>\n</div>",
       "datasetInfos": [],
       "metadata": {},
       "removedWidgets": [],
       "textData": null,
       "type": "htmlSandbox"
      }
     },
     "output_type": "display_data"
    }
   ],
   "source": [
    "datos_train"
   ]
  },
  {
   "cell_type": "markdown",
   "metadata": {
    "application/vnd.databricks.v1+cell": {
     "cellMetadata": {
      "byteLimit": 2048000,
      "rowLimit": 10000
     },
     "inputWidgets": {},
     "nuid": "241a3930-7734-4032-8969-89e637c34700",
     "showTitle": false,
     "title": ""
    }
   },
   "source": [
    "## Serie Temporal\n",
    "Como deseamos predecir el Caudal de una fecha dada una serie de fechas previas, podemos notar que tenemos una **Serie Temporal** por lo que podemos usar un modelo de predicción de Series Temporales para este caso, la cual toma como factores para predecir los valores de fechas previas y predice fechas futuras. Este tipo de modelos usan modelos de regresión anidados para realizar la predicción de manera adecuada."
   ]
  },
  {
   "cell_type": "markdown",
   "metadata": {
    "application/vnd.databricks.v1+cell": {
     "cellMetadata": {
      "byteLimit": 2048000,
      "rowLimit": 10000
     },
     "inputWidgets": {},
     "nuid": "461c0b7d-066c-4403-a860-feed79224027",
     "showTitle": false,
     "title": ""
    }
   },
   "source": [
    "### Selección Modelo ML\n",
    "Para la parte de la **Serie Temporal** usaremos **ForecasterAutoreg**, que nos permite realizar el acomodo de datos de manera que el modelo ML de regresión utilice los datos del a_1 al a_n para predecir el a_n+1, y posteriormente usará los datos del a_2 hasta el a_n+1 para predecir el a_n+2, y así sucesivamente.\n",
    "\n",
    "Como modelo de regresión, en el notebook **pred_dia_gasolinera_15min** se probaron 6 diferentes modelos para el dataset de Gasolinera para hacer una predicción rápida con la finalidad de escoger el mejor algoritmo para aplicar al **Forecaster**. Los modelos analizados y sus resultados se muestran a continuación."
   ]
  },
  {
   "cell_type": "code",
   "execution_count": 0,
   "metadata": {
    "application/vnd.databricks.v1+cell": {
     "cellMetadata": {
      "byteLimit": 2048000,
      "rowLimit": 10000
     },
     "inputWidgets": {},
     "nuid": "81b37b2e-75e3-40ba-a2a1-39f7285bf5e0",
     "showTitle": false,
     "title": ""
    }
   },
   "outputs": [],
   "source": [
    "from IPython.display import display\n",
    "from PIL import Image\n",
    "\n",
    "image = Image.open('../../Workspace/Group 1/src/assets/seleccion_modelo.png')\n",
    "display(image)"
   ]
  },
  {
   "cell_type": "markdown",
   "metadata": {
    "application/vnd.databricks.v1+cell": {
     "cellMetadata": {
      "byteLimit": 2048000,
      "rowLimit": 10000
     },
     "inputWidgets": {},
     "nuid": "57f0a298-0a36-49cd-83de-976b7505f7e9",
     "showTitle": false,
     "title": ""
    }
   },
   "source": [
    "Analizando la tabla anterior, podemos observar que **RandomForestRegressor** obtiene los mejores resultados en el set de validación, y obtiene los segundos mejores resultsdos en R2 Score para la prueba con el set de entrenamiento. El modelo **XGBRegressor** obtiene los segundos mejores resultados, mientras que LassoCV, RidgeCV y AdaBoostRegressor obtienen resultados poco favorables. El modelo **DecisionTreeRegressor** obtiene resultados perfectos al predecir valores del set de entrenamiento, lo que significa que se \"aprendió\" perfectamente este set, lo que puede ser overfitting, y obtiene los terceros mejores resultados en el set de validación.\n",
    "\n",
    "Por otro lado, si consideramos el tiempo de predicción como un factor importante para la selección del modelo, la mejor opción sería **XGBRegressor** debido al poco tiempo que necesita para predecir, el cual es casi 40 veces menor que **RandomForestRegressor** en el set de validación y 5 veces menor que en la prueba con el set de entrenamiento."
   ]
  },
  {
   "cell_type": "markdown",
   "metadata": {
    "application/vnd.databricks.v1+cell": {
     "cellMetadata": {
      "byteLimit": 2048000,
      "rowLimit": 10000
     },
     "inputWidgets": {},
     "nuid": "5c9c7df3-7c01-48f2-9df8-87480e327431",
     "showTitle": false,
     "title": ""
    }
   },
   "source": [
    "## ForecasterAutoreg"
   ]
  },
  {
   "cell_type": "markdown",
   "metadata": {
    "application/vnd.databricks.v1+cell": {
     "cellMetadata": {
      "byteLimit": 2048000,
      "rowLimit": 10000
     },
     "inputWidgets": {},
     "nuid": "02f79138-7e3b-411d-8565-d799eb9bd5c9",
     "showTitle": false,
     "title": ""
    }
   },
   "source": [
    "Se crea y entrena un modelo ForecasterAutoreg a partir de un regresor **RandomForestRegresso**r y una ventana temporal de 144 lags. Esto último significa que, el modelo, utiliza como predictores los 144 datos anteriores."
   ]
  },
  {
   "cell_type": "code",
   "execution_count": 0,
   "metadata": {
    "application/vnd.databricks.v1+cell": {
     "cellMetadata": {
      "byteLimit": 2048000,
      "rowLimit": 10000
     },
     "inputWidgets": {},
     "nuid": "0587be9c-c507-4614-99ca-75c435d1d4ae",
     "showTitle": false,
     "title": ""
    }
   },
   "outputs": [
    {
     "name": "stdout",
     "output_type": "stream",
     "text": [
      "py4j.clientserver INFO  Received command c on object id p0\n",
      "/local_disk0/.ephemeral_nfs/envs/pythonEnv-d6f6661c-3060-4d10-95c1-c0aba53d8baa/lib/python3.9/site-packages/skforecast/utils/utils.py:616: UserWarning: `y` has DatetimeIndex index but no frequency. Index is overwritten with a RangeIndex of step 1.\n",
      "  warnings.warn(\n",
      "/local_disk0/.ephemeral_nfs/envs/pythonEnv-d6f6661c-3060-4d10-95c1-c0aba53d8baa/lib/python3.9/site-packages/skforecast/utils/utils.py:616: UserWarning: `y` has DatetimeIndex index but no frequency. Index is overwritten with a RangeIndex of step 1.\n",
      "  warnings.warn(\n",
      "Out[32]: ================= \n",
      "ForecasterAutoreg \n",
      "================= \n",
      "Regressor: RandomForestRegressor(random_state=123) \n",
      "Lags: [  1   2   3   4   5   6   7   8   9  10  11  12  13  14  15  16  17  18\n",
      "  19  20  21  22  23  24  25  26  27  28  29  30  31  32  33  34  35  36\n",
      "  37  38  39  40  41  42  43  44  45  46  47  48  49  50  51  52  53  54\n",
      "  55  56  57  58  59  60  61  62  63  64  65  66  67  68  69  70  71  72\n",
      "  73  74  75  76  77  78  79  80  81  82  83  84  85  86  87  88  89  90\n",
      "  91  92  93  94  95  96  97  98  99 100 101 102 103 104 105 106 107 108\n",
      " 109 110 111 112 113 114 115 116 117 118 119 120 121 122 123 124 125 126\n",
      " 127 128 129 130 131 132 133 134 135 136 137 138 139 140 141 142 143 144] \n",
      "Transformer for y: None \n",
      "Transformer for exog: None \n",
      "Window size: 144 \n",
      "Weight function included: False \n",
      "Exogenous included: False \n",
      "Type of exogenous variable: None \n",
      "Exogenous variables names: None \n",
      "Training range: [0, 2227] \n",
      "Training index type: RangeIndex \n",
      "Training index frequency: 1 \n",
      "Regressor parameters: {'bootstrap': True, 'ccp_alpha': 0.0, 'criterion': 'squared_error', 'max_depth': None, 'max_features': 1.0, 'max_leaf_nodes': None, 'max_samples': None, 'min_impurity_decrease': 0.0, 'min_samples_leaf': 1, 'min_samples_split': 2, 'min_weight_fraction_leaf': 0.0, 'n_estimators': 100, 'n_jobs': None, 'oob_score': False, 'random_state': 123, 'verbose': 0, 'warm_start': False} \n",
      "Creation date: 2023-03-30 02:11:16 \n",
      "Last fit date: 2023-03-30 02:11:32 \n",
      "Skforecast version: 0.7.0 \n",
      "Python version: 3.9.5 \n",
      "Forecaster id: None "
     ]
    }
   ],
   "source": [
    "# Crear y entrenar forecaster\n",
    "# ==============================================================================\n",
    "forecaster = ForecasterAutoreg(\n",
    "                regressor = RandomForestRegressor(random_state=123),\n",
    "                lags = 144\n",
    "             )\n",
    "y=datos_train['DATO']\n",
    "forecaster.fit(y)\n",
    "forecaster"
   ]
  },
  {
   "cell_type": "markdown",
   "metadata": {
    "application/vnd.databricks.v1+cell": {
     "cellMetadata": {
      "byteLimit": 2048000,
      "rowLimit": 10000
     },
     "inputWidgets": {},
     "nuid": "15cafea7-d98f-4ff2-a048-68593452e9da",
     "showTitle": false,
     "title": ""
    }
   },
   "source": [
    "## Predicciones"
   ]
  },
  {
   "cell_type": "code",
   "execution_count": 0,
   "metadata": {
    "application/vnd.databricks.v1+cell": {
     "cellMetadata": {
      "byteLimit": 2048000,
      "rowLimit": 10000
     },
     "inputWidgets": {},
     "nuid": "fcc58754-8b59-4b87-9771-5e96293a9f7e",
     "showTitle": false,
     "title": ""
    }
   },
   "outputs": [
    {
     "name": "stdout",
     "output_type": "stream",
     "text": [
      "py4j.clientserver INFO  Received command c on object id p0\n",
      "/local_disk0/.ephemeral_nfs/envs/pythonEnv-d6f6661c-3060-4d10-95c1-c0aba53d8baa/lib/python3.9/site-packages/skforecast/utils/utils.py:674: UserWarning: `last_window` has DatetimeIndex index but no frequency. Index is overwritten with a RangeIndex of step 1.\n",
      "  warnings.warn(\n",
      "Out[33]: 144    8.4500\n",
      "145    8.2460\n",
      "146    8.1792\n",
      "147    8.0928\n",
      "148    7.7380\n",
      "Name: pred, dtype: float64"
     ]
    }
   ],
   "source": [
    "# Predicciones\n",
    "# ==============================================================================\n",
    "steps = 300\n",
    "predicciones = forecaster.predict(steps=steps)\n",
    "predicciones.head(5)"
   ]
  },
  {
   "cell_type": "code",
   "execution_count": 0,
   "metadata": {
    "application/vnd.databricks.v1+cell": {
     "cellMetadata": {
      "byteLimit": 2048000,
      "rowLimit": 10000
     },
     "inputWidgets": {},
     "nuid": "73db0a4c-df9c-49ee-8114-1b1ebfa2a394",
     "showTitle": false,
     "title": ""
    }
   },
   "outputs": [
    {
     "name": "stdout",
     "output_type": "stream",
     "text": [
      "py4j.clientserver INFO  Received command c on object id p0\n",
      "(300,)\n",
      "<class 'pandas.core.series.Series'>\n"
     ]
    }
   ],
   "source": [
    "print(predicciones.shape)\n",
    "print(type(predicciones))"
   ]
  },
  {
   "cell_type": "code",
   "execution_count": 0,
   "metadata": {
    "application/vnd.databricks.v1+cell": {
     "cellMetadata": {
      "byteLimit": 2048000,
      "rowLimit": 10000
     },
     "inputWidgets": {},
     "nuid": "955b0b8c-e440-4ca6-b9af-6bbc1f6d786c",
     "showTitle": false,
     "title": ""
    }
   },
   "outputs": [
    {
     "name": "stdout",
     "output_type": "stream",
     "text": [
      "py4j.clientserver INFO  Received command c on object id p0\n"
     ]
    }
   ],
   "source": [
    "predicciones.index = pd.Index(datos_test.index)"
   ]
  },
  {
   "cell_type": "code",
   "execution_count": 0,
   "metadata": {
    "application/vnd.databricks.v1+cell": {
     "cellMetadata": {
      "byteLimit": 2048000,
      "rowLimit": 10000
     },
     "inputWidgets": {},
     "nuid": "72dfc14e-1aab-47ea-a7ff-68fc586ae31e",
     "showTitle": false,
     "title": ""
    }
   },
   "outputs": [
    {
     "name": "stdout",
     "output_type": "stream",
     "text": [
      "py4j.clientserver INFO  Received command c on object id p0\n",
      "Out[39]: FECHA\n",
      "2021-08-28 21:00:00    8.4500\n",
      "2021-08-28 21:15:00    8.2460\n",
      "2021-08-28 21:30:00    8.1792\n",
      "2021-08-28 21:45:00    8.0928\n",
      "2021-08-28 22:00:00    7.7380\n",
      "Name: pred, dtype: float64"
     ]
    }
   ],
   "source": [
    "predicciones.head()"
   ]
  },
  {
   "cell_type": "code",
   "execution_count": 0,
   "metadata": {
    "application/vnd.databricks.v1+cell": {
     "cellMetadata": {
      "byteLimit": 2048000,
      "rowLimit": 10000
     },
     "inputWidgets": {},
     "nuid": "df2a0f6c-336a-4ccb-9ac6-e4c337f29954",
     "showTitle": false,
     "title": ""
    }
   },
   "outputs": [
    {
     "name": "stdout",
     "output_type": "stream",
     "text": [
      "py4j.clientserver INFO  Received command c on object id p0\n"
     ]
    }
   ],
   "source": [
    "# Se guardan las predicciones\n",
    "predicciones.to_csv(\"../../Workspace/Group 1/src/our_csv/Predicciones.csv\")"
   ]
  },
  {
   "cell_type": "code",
   "execution_count": 0,
   "metadata": {
    "application/vnd.databricks.v1+cell": {
     "cellMetadata": {
      "byteLimit": 2048000,
      "rowLimit": 10000
     },
     "inputWidgets": {},
     "nuid": "ce39f5aa-6c08-48fa-9b94-e1e3152d03d6",
     "showTitle": false,
     "title": ""
    }
   },
   "outputs": [
    {
     "name": "stdout",
     "output_type": "stream",
     "text": [
      "py4j.clientserver INFO  Received command c on object id p0\n"
     ]
    }
   ],
   "source": [
    "# Se guardan los datos de test, los datos de train en csv files\n",
    "datos_test.to_csv(\"../../Workspace/Group 1/src/our_csv/datos_test.csv\")\n",
    "datos_train.to_csv(\"../../Workspace/Group 1/src/our_csv/datos_train.csv\")"
   ]
  },
  {
   "cell_type": "markdown",
   "metadata": {
    "application/vnd.databricks.v1+cell": {
     "cellMetadata": {},
     "inputWidgets": {},
     "nuid": "86e77786-adeb-4db9-8b01-f9ae8396b6e1",
     "showTitle": false,
     "title": ""
    }
   },
   "source": [
    "# Predicción 3 dias"
   ]
  },
  {
   "cell_type": "code",
   "execution_count": 0,
   "metadata": {
    "application/vnd.databricks.v1+cell": {
     "cellMetadata": {
      "byteLimit": 2048000,
      "rowLimit": 10000
     },
     "inputWidgets": {},
     "nuid": "193cd7a9-42b8-4532-a181-6a90b426202d",
     "showTitle": false,
     "title": ""
    }
   },
   "outputs": [],
   "source": [
    "# Gráfico\n",
    "# ==============================================================================\n",
    "fig, ax = plt.subplots(figsize=(15, 8))\n",
    "datos_train['DATO'][390:].plot(ax=ax, label='train')\n",
    "datos_test['DATO'].plot(ax=ax, label='test')\n",
    "predicciones.plot(ax=ax, label='predicciones')\n",
    "ax.legend();"
   ]
  },
  {
   "cell_type": "markdown",
   "metadata": {
    "application/vnd.databricks.v1+cell": {
     "cellMetadata": {
      "byteLimit": 2048000,
      "rowLimit": 10000
     },
     "inputWidgets": {},
     "nuid": "510243d8-1cfa-4acd-9c18-6b8bafd38292",
     "showTitle": false,
     "title": ""
    }
   },
   "source": [
    "## Error\n",
    "Se calcula el error obtenido al comparar los datos reales con los valores predichos"
   ]
  },
  {
   "cell_type": "code",
   "execution_count": 0,
   "metadata": {
    "application/vnd.databricks.v1+cell": {
     "cellMetadata": {
      "byteLimit": 2048000,
      "rowLimit": 10000
     },
     "inputWidgets": {},
     "nuid": "dcfc6c18-937e-40ca-b043-6abc286eb077",
     "showTitle": false,
     "title": ""
    }
   },
   "outputs": [
    {
     "name": "stdout",
     "output_type": "stream",
     "text": [
      "py4j.clientserver INFO  Received command c on object id p0\n",
      "Error de test (mse): 0.9629893292176874\n"
     ]
    }
   ],
   "source": [
    "# Error test\n",
    "# ==============================================================================\n",
    "error_mse = mean_squared_error(\n",
    "                y_true = datos_test['DATO'],\n",
    "                y_pred = predicciones\n",
    "            )\n",
    "\n",
    "print(f\"Error de test (mse): {error_mse}\")"
   ]
  },
  {
   "cell_type": "code",
   "execution_count": 0,
   "metadata": {
    "application/vnd.databricks.v1+cell": {
     "cellMetadata": {
      "byteLimit": 2048000,
      "rowLimit": 10000
     },
     "inputWidgets": {},
     "nuid": "ac213aec-b420-4c2f-8556-4fe0df509c14",
     "showTitle": false,
     "title": ""
    }
   },
   "outputs": [
    {
     "name": "stdout",
     "output_type": "stream",
     "text": [
      "py4j.clientserver INFO  Received command c on object id p0\n",
      "r2_score: 0.7312772299629868\n"
     ]
    }
   ],
   "source": [
    "from sklearn.metrics import r2_score\n",
    "error_r2_score = r2_score(\n",
    "                y_true = datos_test['DATO'],\n",
    "                y_pred = predicciones\n",
    ")\n",
    "print(f\"r2_score: {error_r2_score}\")"
   ]
  },
  {
   "cell_type": "markdown",
   "metadata": {
    "application/vnd.databricks.v1+cell": {
     "cellMetadata": {},
     "inputWidgets": {},
     "nuid": "fa1bea73-f50e-4d86-922f-1d510e6df14d",
     "showTitle": false,
     "title": ""
    }
   },
   "source": [
    "El valor de R2_Score es bastante bueno ya que es más cercano a 1 que a 0, lo cual indica un buen desempeño del modelo. De igual manera, el valor de error MSE es pequeño comparado con los valores de y_pred y y_test."
   ]
  },
  {
   "cell_type": "markdown",
   "metadata": {
    "application/vnd.databricks.v1+cell": {
     "cellMetadata": {},
     "inputWidgets": {},
     "nuid": "cabeeb4d-dfb9-4ca7-8f0c-e577469efbbe",
     "showTitle": false,
     "title": ""
    }
   },
   "source": [
    "# Prediccion 1 dia"
   ]
  },
  {
   "cell_type": "code",
   "execution_count": 0,
   "metadata": {
    "application/vnd.databricks.v1+cell": {
     "cellMetadata": {
      "byteLimit": 2048000,
      "rowLimit": 10000
     },
     "inputWidgets": {},
     "nuid": "0daa0c77-2489-4bb7-b941-e5334fd96cb0",
     "showTitle": false,
     "title": ""
    }
   },
   "outputs": [
    {
     "name": "stdout",
     "output_type": "stream",
     "text": [
      "py4j.clientserver INFO  Received command c on object id p0\n",
      "/local_disk0/.ephemeral_nfs/envs/pythonEnv-d6f6661c-3060-4d10-95c1-c0aba53d8baa/lib/python3.9/site-packages/skforecast/utils/utils.py:674: UserWarning: `last_window` has DatetimeIndex index but no frequency. Index is overwritten with a RangeIndex of step 1.\n",
      "  warnings.warn(\n",
      "Out[44]: 144    8.4500\n",
      "145    8.2460\n",
      "146    8.1792\n",
      "147    8.0928\n",
      "148    7.7380\n",
      "Name: pred, dtype: float64"
     ]
    }
   ],
   "source": [
    "# Predicciones\n",
    "# ==============================================================================\n",
    "steps = 110\n",
    "predicciones1dia = forecaster.predict(steps=steps)\n",
    "predicciones1dia.head(5)"
   ]
  },
  {
   "cell_type": "code",
   "execution_count": 0,
   "metadata": {
    "application/vnd.databricks.v1+cell": {
     "cellMetadata": {
      "byteLimit": 2048000,
      "rowLimit": 10000
     },
     "inputWidgets": {},
     "nuid": "924fae51-79af-427c-b2b8-2e034286f271",
     "showTitle": false,
     "title": ""
    }
   },
   "outputs": [
    {
     "name": "stdout",
     "output_type": "stream",
     "text": [
      "py4j.clientserver INFO  Received command c on object id p0\n"
     ]
    }
   ],
   "source": [
    "datos_test_100 = datos_test[:110]\n",
    "predicciones1dia.index = pd.Index(datos_test_100.index)"
   ]
  },
  {
   "cell_type": "code",
   "execution_count": 0,
   "metadata": {
    "application/vnd.databricks.v1+cell": {
     "cellMetadata": {
      "byteLimit": 2048000,
      "rowLimit": 10000
     },
     "inputWidgets": {},
     "nuid": "ba0a3f8c-9ef4-4253-957e-c908f41850d2",
     "showTitle": false,
     "title": ""
    }
   },
   "outputs": [],
   "source": [
    "fig, ax = plt.subplots(figsize=(15, 8))\n",
    "#datos_train['DATO'][390:].plot(ax=ax, label='train')\n",
    "datos_test['DATO'][12:110].plot(ax=ax, label='test')\n",
    "predicciones1dia[12:110].plot(ax=ax, label='predicciones1dia')\n",
    "ax.legend();"
   ]
  },
  {
   "cell_type": "code",
   "execution_count": 0,
   "metadata": {
    "application/vnd.databricks.v1+cell": {
     "cellMetadata": {
      "byteLimit": 2048000,
      "rowLimit": 10000
     },
     "inputWidgets": {},
     "nuid": "b26b5641-3643-4c71-a6d9-bfa39606c269",
     "showTitle": false,
     "title": ""
    }
   },
   "outputs": [
    {
     "name": "stdout",
     "output_type": "stream",
     "text": [
      "py4j.clientserver INFO  Received command c on object id p0\n"
     ]
    }
   ],
   "source": [
    "predicciones1dia[12:110].to_csv(\"../../Workspace/Group 1/src/our_csv/Predicciones1dia.csv\")\n",
    "datos_test[12:110].to_csv(\"../../Workspace/Group 1/src/our_csv/datos_test_1dia.csv\")\n"
   ]
  },
  {
   "cell_type": "markdown",
   "metadata": {
    "application/vnd.databricks.v1+cell": {
     "cellMetadata": {},
     "inputWidgets": {},
     "nuid": "deacd26d-2b03-42a8-aa69-01c348db1d40",
     "showTitle": false,
     "title": ""
    }
   },
   "source": [
    "# Error"
   ]
  },
  {
   "cell_type": "code",
   "execution_count": 0,
   "metadata": {
    "application/vnd.databricks.v1+cell": {
     "cellMetadata": {
      "byteLimit": 2048000,
      "rowLimit": 10000
     },
     "inputWidgets": {},
     "nuid": "f4fcde89-84de-42b5-9089-a556e87f10d6",
     "showTitle": false,
     "title": ""
    }
   },
   "outputs": [
    {
     "name": "stdout",
     "output_type": "stream",
     "text": [
      "py4j.clientserver INFO  Received command c on object id p0\n",
      "Error de test (mse): 0.450203886783408\n"
     ]
    }
   ],
   "source": [
    "# Error test\n",
    "# ==============================================================================\n",
    "error_mse = mean_squared_error(\n",
    "                y_true = datos_test['DATO'][:110],\n",
    "                y_pred = predicciones1dia\n",
    "            )\n",
    "\n",
    "print(f\"Error de test (mse): {error_mse}\")"
   ]
  },
  {
   "cell_type": "code",
   "execution_count": 0,
   "metadata": {
    "application/vnd.databricks.v1+cell": {
     "cellMetadata": {
      "byteLimit": 2048000,
      "rowLimit": 10000
     },
     "inputWidgets": {},
     "nuid": "5d830f5e-67ce-4115-b457-b3c1d832185a",
     "showTitle": false,
     "title": ""
    }
   },
   "outputs": [
    {
     "name": "stdout",
     "output_type": "stream",
     "text": [
      "py4j.clientserver INFO  Received command c on object id p0\n",
      "r2_score: 0.8860961429185237\n"
     ]
    }
   ],
   "source": [
    "from sklearn.metrics import r2_score\n",
    "error_r2_score = r2_score(\n",
    "                y_true = datos_test['DATO'][:110],\n",
    "                y_pred = predicciones1dia\n",
    ")\n",
    "print(f\"r2_score: {error_r2_score}\")"
   ]
  },
  {
   "cell_type": "markdown",
   "metadata": {
    "application/vnd.databricks.v1+cell": {
     "cellMetadata": {},
     "inputWidgets": {},
     "nuid": "8dee88ab-0b32-4b0b-9488-6edb0e9b32b6",
     "showTitle": false,
     "title": ""
    }
   },
   "source": [
    "Prediciendo 1 día, el error es menor que al predecir 3 días; el valor e R2_Score es más cercano a 1 que en el caso anterior."
   ]
  },
  {
   "cell_type": "markdown",
   "metadata": {
    "application/vnd.databricks.v1+cell": {
     "cellMetadata": {
      "byteLimit": 2048000,
      "rowLimit": 10000
     },
     "inputWidgets": {},
     "nuid": "d970d2e7-ffd8-40e0-ac2b-79f93988f995",
     "showTitle": false,
     "title": ""
    }
   },
   "source": [
    "## Mejora del modelo"
   ]
  },
  {
   "cell_type": "code",
   "execution_count": 0,
   "metadata": {
    "application/vnd.databricks.v1+cell": {
     "cellMetadata": {
      "byteLimit": 2048000,
      "rowLimit": 10000
     },
     "inputWidgets": {},
     "nuid": "24fc5316-a8cc-4519-97df-e4db7502945f",
     "showTitle": false,
     "title": ""
    }
   },
   "outputs": [
    {
     "data": {
      "text/plain": []
     },
     "metadata": {
      "application/vnd.databricks.v1+output": {
       "arguments": {},
       "data": "",
       "errorSummary": "Command skipped",
       "errorTraceType": "ansi",
       "metadata": {},
       "type": "ipynbError"
      }
     },
     "output_type": "display_data"
    }
   ],
   "source": [
    "'''# Grid search de hiperparámetros\n",
    "# ==============================================================================\n",
    "steps = 1200\n",
    "forecaster = ForecasterAutoreg(\n",
    "                regressor = RandomForestRegressor(random_state=123),\n",
    "                lags      = 14 # Este valor será remplazado en el grid search\n",
    "             )\n",
    "\n",
    "# Lags utilizados como predictores\n",
    "lags_grid = [10, 20]\n",
    "\n",
    "# Hiperparámetros del regresor\n",
    "param_grid = {'n_estimators': [100, 500],\n",
    "              'max_depth': [3, 5, 10]}\n",
    "\n",
    "resultados_grid = grid_search_forecaster(\n",
    "                        forecaster         = forecaster,\n",
    "                        y                  = datos_train['DATO'],\n",
    "                        param_grid         = param_grid,\n",
    "                        lags_grid          = lags_grid,\n",
    "                        steps              = steps,\n",
    "                        refit              = True,\n",
    "                        metric             = 'mean_squared_error',\n",
    "                        initial_train_size = int(len(datos_train)*0.5),\n",
    "                        fixed_train_size   = False,\n",
    "                        return_best        = True,\n",
    "                        verbose            = False\n",
    "                  )'''"
   ]
  },
  {
   "cell_type": "markdown",
   "metadata": {
    "application/vnd.databricks.v1+cell": {
     "cellMetadata": {
      "byteLimit": 2048000,
      "rowLimit": 10000
     },
     "inputWidgets": {},
     "nuid": "074202d2-36e6-4901-a10f-2c4c9613b53e",
     "showTitle": false,
     "title": ""
    }
   },
   "source": [
    "## Modelo Final\n",
    "Finalmente, se entrena de nuevo un ForecasterAutoreg con la configuración óptima encontrada mediante validación. Este paso no es necesario si se indica return_best = True en la función grid_search_forecaster."
   ]
  },
  {
   "cell_type": "code",
   "execution_count": 0,
   "metadata": {
    "application/vnd.databricks.v1+cell": {
     "cellMetadata": {
      "byteLimit": 2048000,
      "rowLimit": 10000
     },
     "inputWidgets": {},
     "nuid": "99978efd-b32f-46e6-a6d6-c202f834cc87",
     "showTitle": false,
     "title": ""
    }
   },
   "outputs": [
    {
     "data": {
      "text/plain": []
     },
     "metadata": {
      "application/vnd.databricks.v1+output": {
       "arguments": {},
       "data": "",
       "errorSummary": "Command skipped",
       "errorTraceType": "ansi",
       "metadata": {},
       "type": "ipynbError"
      }
     },
     "output_type": "display_data"
    }
   ],
   "source": [
    "''''# Crear y entrenar forecaster con mejores hiperparámetros\n",
    "# ==============================================================================\n",
    "regressor = RandomForestRegressor(max_depth=10, n_estimators=100, random_state=123)\n",
    "forecaster = ForecasterAutoreg(\n",
    "                regressor = regressor,\n",
    "                lags      = 20\n",
    "             )\n",
    "\n",
    "forecaster.fit(y=datos_train['DATO'])''''"
   ]
  },
  {
   "cell_type": "code",
   "execution_count": 0,
   "metadata": {
    "application/vnd.databricks.v1+cell": {
     "cellMetadata": {
      "byteLimit": 2048000,
      "rowLimit": 10000
     },
     "inputWidgets": {},
     "nuid": "b3aa2470-9031-46ca-8e8b-da705d35af3d",
     "showTitle": false,
     "title": ""
    }
   },
   "outputs": [
    {
     "data": {
      "text/plain": []
     },
     "metadata": {
      "application/vnd.databricks.v1+output": {
       "arguments": {},
       "data": "",
       "errorSummary": "Command skipped",
       "errorTraceType": "ansi",
       "metadata": {},
       "type": "ipynbError"
      }
     },
     "output_type": "display_data"
    }
   ],
   "source": [
    "#forecaster"
   ]
  },
  {
   "cell_type": "code",
   "execution_count": 0,
   "metadata": {
    "application/vnd.databricks.v1+cell": {
     "cellMetadata": {
      "byteLimit": 2048000,
      "rowLimit": 10000
     },
     "inputWidgets": {},
     "nuid": "f707742a-ab52-47b3-ac93-d8a3e9846f23",
     "showTitle": false,
     "title": ""
    }
   },
   "outputs": [
    {
     "data": {
      "text/plain": []
     },
     "metadata": {
      "application/vnd.databricks.v1+output": {
       "arguments": {},
       "data": "",
       "errorSummary": "Command skipped",
       "errorTraceType": "ansi",
       "metadata": {},
       "type": "ipynbError"
      }
     },
     "output_type": "display_data"
    }
   ],
   "source": [
    "# Predicciones\n",
    "# ==============================================================================\n",
    "#predicciones = forecaster.predict(steps=steps)"
   ]
  },
  {
   "cell_type": "code",
   "execution_count": 0,
   "metadata": {
    "application/vnd.databricks.v1+cell": {
     "cellMetadata": {
      "byteLimit": 2048000,
      "rowLimit": 10000
     },
     "inputWidgets": {},
     "nuid": "a347fae7-eec9-4dad-97d1-8c1c9fa714cd",
     "showTitle": false,
     "title": ""
    }
   },
   "outputs": [
    {
     "data": {
      "text/plain": []
     },
     "metadata": {
      "application/vnd.databricks.v1+output": {
       "arguments": {},
       "data": "",
       "errorSummary": "Command skipped",
       "errorTraceType": "ansi",
       "metadata": {},
       "type": "ipynbError"
      }
     },
     "output_type": "display_data"
    }
   ],
   "source": [
    "#predicciones"
   ]
  },
  {
   "cell_type": "code",
   "execution_count": 0,
   "metadata": {
    "application/vnd.databricks.v1+cell": {
     "cellMetadata": {
      "byteLimit": 2048000,
      "rowLimit": 10000
     },
     "inputWidgets": {},
     "nuid": "cdff3a57-132b-4b37-9fed-b8854a2a5726",
     "showTitle": false,
     "title": ""
    }
   },
   "outputs": [
    {
     "data": {
      "text/plain": []
     },
     "metadata": {
      "application/vnd.databricks.v1+output": {
       "arguments": {},
       "data": "",
       "errorSummary": "Command skipped",
       "errorTraceType": "ansi",
       "metadata": {},
       "type": "ipynbError"
      }
     },
     "output_type": "display_data"
    }
   ],
   "source": [
    "#predicciones.index = pd.Index(datos_test.index)"
   ]
  },
  {
   "cell_type": "code",
   "execution_count": 0,
   "metadata": {
    "application/vnd.databricks.v1+cell": {
     "cellMetadata": {
      "byteLimit": 2048000,
      "rowLimit": 10000
     },
     "inputWidgets": {},
     "nuid": "35079274-775b-4821-987e-75c81be2fd19",
     "showTitle": false,
     "title": ""
    }
   },
   "outputs": [
    {
     "data": {
      "text/plain": []
     },
     "metadata": {
      "application/vnd.databricks.v1+output": {
       "arguments": {},
       "data": "",
       "errorSummary": "Command skipped",
       "errorTraceType": "ansi",
       "metadata": {},
       "type": "ipynbError"
      }
     },
     "output_type": "display_data"
    }
   ],
   "source": [
    "#predicciones"
   ]
  },
  {
   "cell_type": "code",
   "execution_count": 0,
   "metadata": {
    "application/vnd.databricks.v1+cell": {
     "cellMetadata": {
      "byteLimit": 2048000,
      "rowLimit": 10000
     },
     "inputWidgets": {},
     "nuid": "49d7c8f1-b58c-4f10-a44f-0581cb371705",
     "showTitle": false,
     "title": ""
    }
   },
   "outputs": [
    {
     "data": {
      "text/plain": []
     },
     "metadata": {
      "application/vnd.databricks.v1+output": {
       "arguments": {},
       "data": "",
       "errorSummary": "Command skipped",
       "errorTraceType": "ansi",
       "metadata": {},
       "type": "ipynbError"
      }
     },
     "output_type": "display_data"
    }
   ],
   "source": [
    "# Gráfico\n",
    "# ==============================================================================\n",
    "''''fig, ax = plt.subplots(figsize=(15, 8))\n",
    "datos_train['DATO'].plot(ax=ax, label='train')\n",
    "datos_test['DATO'].plot(ax=ax, label='test')\n",
    "predicciones.plot(ax=ax, label='predicciones')\n",
    "ax.legend();''''"
   ]
  },
  {
   "cell_type": "markdown",
   "metadata": {
    "application/vnd.databricks.v1+cell": {
     "cellMetadata": {},
     "inputWidgets": {},
     "nuid": "552bc052-61cc-4446-a2b1-ebd299ab7975",
     "showTitle": false,
     "title": ""
    }
   },
   "source": [
    "# Clase para la predicción de más sectores\n",
    "Tras el análisis y experimentación realizada en la sección anterior, se creó una clase para realizar el proceso anterior para cualquier sector que contenga información de **CAUDAL** (los encerrados en círculo rojo en el diagrama de jerarquías).\n",
    "\n",
    "Al crear una instancia de esta clase debemos pasar el código del sector deseado y posteriormente seleccionar el mes con el que queremos entrenar."
   ]
  },
  {
   "cell_type": "code",
   "execution_count": 0,
   "metadata": {
    "application/vnd.databricks.v1+cell": {
     "cellMetadata": {
      "byteLimit": 2048000,
      "rowLimit": 10000
     },
     "inputWidgets": {},
     "nuid": "2e4dc55f-f00e-4f87-9985-513da96c2c4b",
     "showTitle": false,
     "title": ""
    }
   },
   "outputs": [],
   "source": [
    "def transf (Sector: int, dataframe : pd.DataFrame=None):\n",
    "    \n",
    "    clima_path = '../../Workspace/General Docs shared folder/setDatos/clima.csv'\n",
    "    df_clima = pd.read_csv(clima_path)\n",
    "\n",
    "    #Si el dataframe a insertar esta vacio entonces se inserta solo\n",
    "    if dataframe is None:\n",
    "        caudales_path = '../../Workspace/General Docs shared folder/setDatos/caudales.csv'\n",
    "        dataframe = pd.read_csv(caudales_path)\n",
    "\n",
    "    #Filtramos por Sector\n",
    "    dataframe = dataframe.loc[(dataframe[\"Canonical\"]==\"CAUDAL\") & (dataframe[\"Sector_Neta\"]==Sector)]\n",
    "\n",
    "    print(\"Tamaño: \",dataframe.shape)\n",
    "\n",
    "    #Extraemos la fecha aparte\n",
    "    dataframe['fecha']=dataframe['RowKey'].str.extract('([0-9]{4}-[0-9]{2}-[0-9]{2})')\n",
    "    #dataframe = dataframe.loc[(dataframe[\"fecha\"].str.startswith(Fecha))]\n",
    "    \n",
    "    print(dataframe.info())\n",
    "\n",
    "    print(\"Tamaño despues de filtrar: \", dataframe.shape)\n",
    "\n",
    "    #Extraemos la hora aparte\n",
    "    dataframe['hora']=dataframe['RowKey'].str.extract('([0-9]{2}:[0-9]{2}:[0-9]{2})')\n",
    "\n",
    "    #Convertimos la fecha en formato date\n",
    "    dataframe['fecha'] = pd.to_datetime(dataframe['fecha'])\n",
    "\n",
    "    print(\"CheckPoint\")\n",
    "\n",
    "    #Hacemos limpieza de los datos del clima que no necesitaremos\n",
    "    df_clima_clean = df_clima.drop(columns=[\n",
    "        \"wdir\",\"maxt\",\"visibility\",\"wspd\",\"solarenergy\",\"heatindex\",\"cloudcover\",\"mint\",\"datetime\",\"precip\",\"solarradiation\",\n",
    "        \"weathertype\",\"snowdepth\",\"sealevelpressure\",\"snow\",\"dew\",\"precipcover\",\"wgust\",\"conditions\",\"windchill\",\"info\",\"locations\"])\n",
    "    #Sacamos la fecha en una columna diferente\n",
    "    df_clima_clean['fecha']=df_clima_clean['datetimeStr'].str.extract('([0-9]{4}-[0-9]{2}-[0-9]{2})')\n",
    "    #Le ponemos el formato de datetime a la fecha\n",
    "    df_clima_clean['fecha'] = pd.to_datetime(df_clima_clean['fecha'])\n",
    "    #Sacamos el promedio por fecha de la temperatura y humedad\n",
    "    df_clima_agrup = df_clima_clean.groupby([\"fecha\"]).mean()\n",
    "    #Quitamos los indixes\n",
    "    df_clima_agrup.reset_index()\n",
    "\n",
    "    #Juntamos la fecha de los caudales con la del clima\n",
    "    dataframe = pd.merge(df_clima_agrup,dataframe, on=\"fecha\")\n",
    "\n",
    "    #Dividimos la fecha en año, mes, dia, dia_semana\n",
    "    dataframe['ano'] = dataframe['fecha'].dt.year\n",
    "    dataframe['mes'] = dataframe['fecha'].dt.month\n",
    "    dataframe['dia'] = dataframe['fecha'].dt.day\n",
    "    dataframe['dia_semana'] = dataframe['fecha'].dt.weekday\n",
    "\n",
    "    #Renombramos las columnas\n",
    "    dataframe = dataframe.rename(columns = {\"INF_Values\":\"DATOS\",\"fecha\":\"FECHA\", \"hora\":\"HORA\", \"ano\":\"AÑO\",\"mes\":\"MES\",\"dia\":\"DIA\",\"dia_semana\":\"DIA_SEMANA\"})\n",
    "\n",
    "    #Convertimos la hora en formato de fecha\n",
    "    dataframe['HORA'] = pd.to_datetime(dataframe['HORA'])\n",
    "\n",
    "    #Sacamos la hora y minuto de la columna hora\n",
    "    dataframe['HORA_NUMERICA'] = pd.to_datetime(dataframe['HORA'], format='%H:%M:%S').dt.hour\n",
    "    dataframe['MINUTO_NUMERICO'] = pd.to_datetime(dataframe['HORA'], format='%H:%M:%S').dt.minute\n",
    "\n",
    "    #Eliminamos las columnas que no nos interesa para los datos\n",
    "    dataframe = dataframe.drop(columns = ([\"Canonical\",\"RowKey\",\"INF_Label\",\"STA_Label\",\"Sector_Neta\",\"FECHA\",\"HORA\"]))\n",
    "    dataframe = dataframe.rename(columns=\n",
    "    {\"INF_Value\":\"DATO\",\"temp\":\"TEMP\",\"humidity\":\"HUMEDAD\"})\n",
    "\n",
    "    #Eliminamos los datos 0 \n",
    "    dataframe = dataframe.drop(dataframe[(dataframe['DATO'] == 0)].index)\n",
    "\n",
    "    return dataframe"
   ]
  },
  {
   "cell_type": "code",
   "execution_count": 0,
   "metadata": {
    "application/vnd.databricks.v1+cell": {
     "cellMetadata": {
      "byteLimit": 2048000,
      "rowLimit": 10000
     },
     "inputWidgets": {},
     "nuid": "3111575a-0949-465a-876d-1f715b64c952",
     "showTitle": false,
     "title": ""
    }
   },
   "outputs": [
    {
     "name": "stdout",
     "output_type": "stream",
     "text": [
      "py4j.clientserver INFO  Received command c on object id p0\n"
     ]
    }
   ],
   "source": [
    "# Clase\n",
    "class PredictWaterConsume(object):\n",
    "    def __init__(self, sector_num):\n",
    "        self.df_sector = pd.DataFrame(transf(sector_num,))\n",
    "        self.create_date()\n",
    "        #df_sector.head()\n",
    "\n",
    "\n",
    "    def create_date(self):\n",
    "        X_prueba = self.df_sector.copy()\n",
    "        X_prueba['FECHA'] = X_prueba['AÑO'].astype(str) + \"-\"+X_prueba['MES'].astype(str) +\"-\"+ X_prueba['DIA'].astype(str) + \" \" + X_prueba['HORA_NUMERICA'].astype(str) + \":\" + X_prueba['MINUTO_NUMERICO'].astype(str)\n",
    "        X_prueba['FECHA'] = pd.to_datetime(X_prueba['FECHA'])\n",
    "        df_sector_temphum = X_prueba\n",
    "        #df_sector_temphum.head()\n",
    "\n",
    "        data = df_sector_temphum.set_index('FECHA')\n",
    "        self.data = data.sort_index()\n",
    "        #data\n",
    "        #self.data = data.asfreq('MS')\n",
    "\n",
    "\n",
    "    def subset_mes(self, year, month):\n",
    "        # Subset de datos (mes)\n",
    "        self.subset = self.data[(self.data.index.strftime('%Y-%m').str.startswith('{}-{}'.format(year, month)))]\n",
    "        #df_cau_agosto\n",
    "        self.subset = self.subset.drop([\"AÑO\",\"MES\",\"DIA\",\"DIA_SEMANA\",\"HORA_NUMERICA\",\"MINUTO_NUMERICO\"], axis=1)\n",
    "        #df_cau_agosto# Checar si hay datos null\n",
    "        #df_cau_agosto.isnull().sum()\n",
    "\n",
    "\n",
    "    def train(self, steps=900, _lags_=144):\n",
    "        # Separación datos train-test\n",
    "        # ==============================================================================\n",
    "        #steps = 900\n",
    "        self.datos_train = self.subset[:-steps]\n",
    "        self.datos_test  = self.subset[-steps:]\n",
    "\n",
    "        print(f\"Fechas train : {self.datos_train.index.min()} --- {self.datos_train.index.max()}  (n={len(self.datos_train)})\")\n",
    "        print(f\"Fechas test  : {self.datos_test.index.min()} --- {self.datos_test.index.max()}  (n={len(self.datos_test)})\")\n",
    "\n",
    "        fig, ax = plt.subplots(figsize=(7, 3))\n",
    "        self.datos_train['DATO'].plot(ax=ax, label='train')\n",
    "        self.datos_test['DATO'].plot(ax=ax, label='test')\n",
    "        ax.legend();\n",
    "\n",
    "        # Crear y entrenar forecaster\n",
    "        # ==============================================================================\n",
    "        self.forecaster = ForecasterAutoreg(\n",
    "                        regressor = RandomForestRegressor(),\n",
    "                        lags = _lags_ # 144\n",
    "                    )\n",
    "        y = self.datos_train['DATO']\n",
    "        self.forecaster.fit(y)\n",
    "        #forecaster\n",
    "\n",
    "\n",
    "    def predict(self, steps=900):\n",
    "        # Predicciones\n",
    "        # ==============================================================================\n",
    "        #steps = 900\n",
    "        predicciones = self.forecaster.predict(steps=steps)\n",
    "        predicciones.head(5)\n",
    "\n",
    "        predicciones.index = pd.Index(self.datos_test.index)\n",
    "        predicciones.head()\n",
    "\n",
    "\n",
    "        # Gráfico Predicciones\n",
    "        # ==============================================================================\n",
    "        fig, ax = plt.subplots(figsize=(15, 8))\n",
    "        self.datos_train['DATO'].plot(ax=ax, label='train')\n",
    "        self.datos_test['DATO'].plot(ax=ax, label='test')\n",
    "        predicciones.plot(ax=ax, label='predicciones')\n",
    "        ax.legend();\n",
    "\n",
    "        return predicciones\n",
    "\n",
    "\n",
    "    def get_error():\n",
    "        # Error test\n",
    "        # ==============================================================================\n",
    "        error_mse = mean_squared_error(\n",
    "                        y_true = datos_test['DATO'],\n",
    "                        y_pred = predicciones\n",
    "                    )\n",
    "\n",
    "        print(f\"Error de test (mse): {error_mse}\")\n",
    "\n",
    "        error_r2_score = r2_score(\n",
    "                        y_true = datos_test['DATO'],\n",
    "                        y_pred = predicciones\n",
    "        )\n",
    "        print(f\"r2_score: {error_r2_score}\")"
   ]
  },
  {
   "cell_type": "markdown",
   "metadata": {
    "application/vnd.databricks.v1+cell": {
     "cellMetadata": {},
     "inputWidgets": {},
     "nuid": "5fa26091-beef-4e34-8e6c-7219164f3271",
     "showTitle": false,
     "title": ""
    }
   },
   "source": [
    "## Predicción Valladolid\n",
    "Se usará la clase anterior para obtener la predicción de una semana de agosto del sector Valladolid"
   ]
  },
  {
   "cell_type": "code",
   "execution_count": 0,
   "metadata": {
    "application/vnd.databricks.v1+cell": {
     "cellMetadata": {
      "byteLimit": 2048000,
      "rowLimit": 10000
     },
     "inputWidgets": {},
     "nuid": "d8853003-8860-4ecf-9e3b-3c004fe35e90",
     "showTitle": false,
     "title": ""
    }
   },
   "outputs": [
    {
     "name": "stdout",
     "output_type": "stream",
     "text": [
      "py4j.clientserver INFO  Received command c on object id p0\n",
      "Tamaño:  (47534, 6)\n",
      "<class 'pandas.core.frame.DataFrame'>\n",
      "Int64Index: 47534 entries, 21933 to 941387\n",
      "Data columns (total 7 columns):\n",
      " #   Column       Non-Null Count  Dtype  \n",
      "---  ------       --------------  -----  \n",
      " 0   Canonical    47534 non-null  object \n",
      " 1   RowKey       47534 non-null  object \n",
      " 2   INF_Label    47534 non-null  object \n",
      " 3   INF_Value    47534 non-null  float64\n",
      " 4   STA_Label    47534 non-null  object \n",
      " 5   Sector_Neta  47534 non-null  int64  \n",
      " 6   fecha        47534 non-null  object \n",
      "dtypes: float64(1), int64(1), object(5)\n",
      "memory usage: 2.9+ MB\n",
      "None\n",
      "Tamaño despues de filtrar:  (47534, 7)\n",
      "CheckPoint\n"
     ]
    }
   ],
   "source": [
    "# Prueba con Valladolid\n",
    "\n",
    "# Crea objeto y limpia\n",
    "obj = PredictWaterConsume(22120000)\n",
    "# subset\n",
    "obj.subset_mes('2021', '08')"
   ]
  },
  {
   "cell_type": "code",
   "execution_count": 0,
   "metadata": {
    "application/vnd.databricks.v1+cell": {
     "cellMetadata": {
      "byteLimit": 2048000,
      "rowLimit": 10000
     },
     "inputWidgets": {},
     "nuid": "688e1f51-c2c6-454a-a548-97f869f7a847",
     "showTitle": false,
     "title": ""
    }
   },
   "outputs": [],
   "source": [
    "obj.train()"
   ]
  },
  {
   "cell_type": "code",
   "execution_count": 0,
   "metadata": {
    "application/vnd.databricks.v1+cell": {
     "cellMetadata": {
      "byteLimit": 2048000,
      "rowLimit": 10000
     },
     "inputWidgets": {},
     "nuid": "cd84f7d8-6947-4b1e-8477-ff6c679251d5",
     "showTitle": false,
     "title": ""
    }
   },
   "outputs": [],
   "source": [
    "obj.predict()"
   ]
  },
  {
   "cell_type": "markdown",
   "metadata": {
    "application/vnd.databricks.v1+cell": {
     "cellMetadata": {},
     "inputWidgets": {},
     "nuid": "8d32ad26-39e9-487f-959a-8def5ad2ab70",
     "showTitle": false,
     "title": ""
    }
   },
   "source": [
    "## Predicción Sur-Este\n",
    "Ahora se predice el mismo periodo para Sur-Este"
   ]
  },
  {
   "cell_type": "code",
   "execution_count": 0,
   "metadata": {
    "application/vnd.databricks.v1+cell": {
     "cellMetadata": {
      "byteLimit": 2048000,
      "rowLimit": 10000
     },
     "inputWidgets": {},
     "nuid": "ca0919b1-abd1-4c70-985a-2ed63853d7c0",
     "showTitle": false,
     "title": ""
    }
   },
   "outputs": [
    {
     "name": "stdout",
     "output_type": "stream",
     "text": [
      "py4j.clientserver INFO  Received command c on object id p0\n",
      "Tamaño:  (46326, 6)\n",
      "<class 'pandas.core.frame.DataFrame'>\n",
      "Int64Index: 46326 entries, 12649 to 1024199\n",
      "Data columns (total 7 columns):\n",
      " #   Column       Non-Null Count  Dtype  \n",
      "---  ------       --------------  -----  \n",
      " 0   Canonical    46326 non-null  object \n",
      " 1   RowKey       46326 non-null  object \n",
      " 2   INF_Label    46326 non-null  object \n",
      " 3   INF_Value    46326 non-null  float64\n",
      " 4   STA_Label    46326 non-null  object \n",
      " 5   Sector_Neta  46326 non-null  int64  \n",
      " 6   fecha        46326 non-null  object \n",
      "dtypes: float64(1), int64(1), object(5)\n",
      "memory usage: 2.8+ MB\n",
      "None\n",
      "Tamaño despues de filtrar:  (46326, 7)\n",
      "CheckPoint\n"
     ]
    }
   ],
   "source": [
    "obj2 = PredictWaterConsume(22122000)\n",
    "obj2.subset_mes('2021', '08')"
   ]
  },
  {
   "cell_type": "code",
   "execution_count": 0,
   "metadata": {
    "application/vnd.databricks.v1+cell": {
     "cellMetadata": {
      "byteLimit": 2048000,
      "rowLimit": 10000
     },
     "inputWidgets": {},
     "nuid": "6ac1b09f-ef19-4837-9445-d0f9e736846e",
     "showTitle": false,
     "title": ""
    }
   },
   "outputs": [],
   "source": [
    "obj2.train()"
   ]
  },
  {
   "cell_type": "code",
   "execution_count": 0,
   "metadata": {
    "application/vnd.databricks.v1+cell": {
     "cellMetadata": {
      "byteLimit": 2048000,
      "rowLimit": 10000
     },
     "inputWidgets": {},
     "nuid": "d04a9623-a7d5-46a2-aad5-e1494aa64579",
     "showTitle": false,
     "title": ""
    }
   },
   "outputs": [],
   "source": [
    "obj2.predict()"
   ]
  },
  {
   "cell_type": "code",
   "execution_count": 0,
   "metadata": {
    "application/vnd.databricks.v1+cell": {
     "cellMetadata": {},
     "inputWidgets": {},
     "nuid": "e21c0f91-4aec-4cba-a644-5346f9dac5fe",
     "showTitle": false,
     "title": ""
    }
   },
   "outputs": [],
   "source": []
  }
 ],
 "metadata": {
  "application/vnd.databricks.v1+notebook": {
   "dashboards": [],
   "language": "python",
   "notebookMetadata": {
    "pythonIndentUnit": 4
   },
   "notebookName": "prediccion_caudal_consumo",
   "notebookOrigID": 4070435393204939,
   "widgets": {}
  },
  "kernelspec": {
   "display_name": "Python 3 (ipykernel)",
   "language": "python",
   "name": "python3"
  },
  "language_info": {
   "codemirror_mode": {
    "name": "ipython",
    "version": 3
   },
   "file_extension": ".py",
   "mimetype": "text/x-python",
   "name": "python",
   "nbconvert_exporter": "python",
   "pygments_lexer": "ipython3",
   "version": "3.9.7"
  }
 },
 "nbformat": 4,
 "nbformat_minor": 1
}
